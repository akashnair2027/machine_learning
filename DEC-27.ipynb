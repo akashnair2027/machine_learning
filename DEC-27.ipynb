{
 "cells": [
  {
   "cell_type": "markdown",
   "id": "f5a421c1",
   "metadata": {},
   "source": [
    "# DICTIONARY"
   ]
  },
  {
   "cell_type": "code",
   "execution_count": null,
   "id": "3d4e5739",
   "metadata": {},
   "outputs": [],
   "source": [
    " dic ={'Name':'Akash Nair',\n",
    "       'Class':'Data science',\n",
    "       'Contact':987654321,\n",
    "       'Address':'Pune city'}"
   ]
  },
  {
   "cell_type": "code",
   "execution_count": null,
   "id": "ca45ef28",
   "metadata": {},
   "outputs": [],
   "source": [
    "dic "
   ]
  },
  {
   "cell_type": "code",
   "execution_count": null,
   "id": "d76eaf59",
   "metadata": {},
   "outputs": [],
   "source": [
    "type(dic)"
   ]
  },
  {
   "cell_type": "code",
   "execution_count": null,
   "id": "478b233d",
   "metadata": {},
   "outputs": [],
   "source": [
    "dic['Name']"
   ]
  },
  {
   "cell_type": "code",
   "execution_count": null,
   "id": "9ab14f87",
   "metadata": {},
   "outputs": [],
   "source": [
    "dic.keys()"
   ]
  },
  {
   "cell_type": "code",
   "execution_count": null,
   "id": "c72a13c7",
   "metadata": {},
   "outputs": [],
   "source": [
    "dic.values()"
   ]
  },
  {
   "cell_type": "code",
   "execution_count": null,
   "id": "acb6bdc9",
   "metadata": {},
   "outputs": [],
   "source": [
    "print(len(dic))"
   ]
  },
  {
   "cell_type": "code",
   "execution_count": null,
   "id": "97e7fdc1",
   "metadata": {},
   "outputs": [],
   "source": [
    "dic['color']= 'Purple'"
   ]
  },
  {
   "cell_type": "code",
   "execution_count": null,
   "id": "5050bb32",
   "metadata": {},
   "outputs": [],
   "source": [
    "dic"
   ]
  },
  {
   "cell_type": "code",
   "execution_count": null,
   "id": "db14c68e",
   "metadata": {},
   "outputs": [],
   "source": [
    "dic.items()\n",
    "#the item()method will return each item ina dictionary , as tuple in a list"
   ]
  },
  {
   "cell_type": "code",
   "execution_count": null,
   "id": "41bda43d",
   "metadata": {},
   "outputs": [],
   "source": [
    "dic.update({'color':'Black'})\n",
    "dic"
   ]
  },
  {
   "cell_type": "code",
   "execution_count": null,
   "id": "d4cb4ae2",
   "metadata": {},
   "outputs": [],
   "source": [
    "d2 = {'Name':['Akash','Mary','Nair']}\n",
    "d2"
   ]
  },
  {
   "cell_type": "code",
   "execution_count": 2,
   "id": "d5a2df2f",
   "metadata": {},
   "outputs": [
    {
     "ename": "NameError",
     "evalue": "name 'd2' is not defined",
     "output_type": "error",
     "traceback": [
      "\u001b[1;31m---------------------------------------------------------------------------\u001b[0m",
      "\u001b[1;31mNameError\u001b[0m                                 Traceback (most recent call last)",
      "\u001b[1;32m~\\AppData\\Local\\Temp\\ipykernel_23560\\4009816658.py\u001b[0m in \u001b[0;36m<module>\u001b[1;34m\u001b[0m\n\u001b[1;32m----> 1\u001b[1;33m \u001b[0md2\u001b[0m\u001b[1;33m[\u001b[0m\u001b[1;34m'Name'\u001b[0m\u001b[1;33m]\u001b[0m\u001b[1;33m[\u001b[0m\u001b[1;36m1\u001b[0m\u001b[1;33m]\u001b[0m\u001b[1;33m\u001b[0m\u001b[1;33m\u001b[0m\u001b[0m\n\u001b[0m",
      "\u001b[1;31mNameError\u001b[0m: name 'd2' is not defined"
     ]
    }
   ],
   "source": [
    "d2['Name'][1]"
   ]
  },
  {
   "cell_type": "code",
   "execution_count": null,
   "id": "06a790a7",
   "metadata": {},
   "outputs": [],
   "source": [
    "sd = {101:{'Name': 'Akash','Class':13,'course': 'ML'}}\n",
    "sd[101]['Class']"
   ]
  },
  {
   "cell_type": "code",
   "execution_count": null,
   "id": "416f25f8",
   "metadata": {},
   "outputs": [],
   "source": [
    "# values can be dictionary, list,tuple but key should be immutable.\n",
    "copy_sd = sd.copy()"
   ]
  },
  {
   "cell_type": "code",
   "execution_count": null,
   "id": "08ae452b",
   "metadata": {},
   "outputs": [],
   "source": [
    "copy_sd"
   ]
  },
  {
   "cell_type": "code",
   "execution_count": null,
   "id": "a60a776b",
   "metadata": {},
   "outputs": [],
   "source": [
    "copy_sd.clear()\n",
    "print('copy_sd:',copy_sd)\n",
    "print('sd:',sd)"
   ]
  },
  {
   "cell_type": "code",
   "execution_count": null,
   "id": "7219d7be",
   "metadata": {},
   "outputs": [],
   "source": [
    "dic"
   ]
  },
  {
   "cell_type": "code",
   "execution_count": null,
   "id": "f28b2fbb",
   "metadata": {},
   "outputs": [],
   "source": [
    "#the pop() method removes the items with the specified key names\n",
    "#but you have to give the key npot the value\n"
   ]
  },
  {
   "cell_type": "code",
   "execution_count": null,
   "id": "32b4ec6d",
   "metadata": {},
   "outputs": [],
   "source": [
    "dic.pop('Address')"
   ]
  },
  {
   "cell_type": "code",
   "execution_count": null,
   "id": "c45d147c",
   "metadata": {},
   "outputs": [],
   "source": [
    "dic"
   ]
  },
  {
   "cell_type": "code",
   "execution_count": null,
   "id": "a29fef7a",
   "metadata": {},
   "outputs": [],
   "source": [
    "# the  popitem() method removes the last inserted item, in version 3.7 , a random  item is removed\n",
    "dic.popitem()\n"
   ]
  },
  {
   "cell_type": "code",
   "execution_count": null,
   "id": "984e7c8d",
   "metadata": {},
   "outputs": [],
   "source": [
    "del dic['Contact']"
   ]
  },
  {
   "cell_type": "code",
   "execution_count": null,
   "id": "9969a87b",
   "metadata": {},
   "outputs": [],
   "source": [
    "dic"
   ]
  },
  {
   "cell_type": "code",
   "execution_count": null,
   "id": "29056449",
   "metadata": {},
   "outputs": [],
   "source": [
    "dic.clear()"
   ]
  },
  {
   "cell_type": "code",
   "execution_count": null,
   "id": "19eee388",
   "metadata": {},
   "outputs": [],
   "source": [
    "dic"
   ]
  },
  {
   "cell_type": "code",
   "execution_count": null,
   "id": "d80ea7bc",
   "metadata": {},
   "outputs": [],
   "source": [
    "del dic"
   ]
  },
  {
   "cell_type": "code",
   "execution_count": null,
   "id": "67acb19c",
   "metadata": {},
   "outputs": [],
   "source": [
    "dic ={'Name': 'Akash Nair',\n",
    " 'Class': 'Data science',\n",
    " 'Contact': 987654321,\n",
    " 'Address': 'Pune city',\n",
    " 'color': 'Black'}\n",
    "dic"
   ]
  },
  {
   "cell_type": "code",
   "execution_count": null,
   "id": "62362bf9",
   "metadata": {},
   "outputs": [],
   "source": [
    " # IF statement: we use the if statement to runa block code only when a certain condition is met.\n",
    "    #if condition :\n",
    "       # body of if statements"
   ]
  },
  {
   "cell_type": "code",
   "execution_count": null,
   "id": "d83d24e0",
   "metadata": {},
   "outputs": [],
   "source": [
    "AGE =int(input('Enter your age :'))\n",
    "if AGE>18:\n",
    "    print(\" you can vote\")\n",
    "else:\n",
    "    print(\"you cannot vote\")"
   ]
  },
  {
   "cell_type": "code",
   "execution_count": null,
   "id": "770fc84c",
   "metadata": {},
   "outputs": [],
   "source": [
    "n =10\n",
    "if n>23:\n",
    "    print(\"happy\")\n",
    "else:\n",
    "    print(\"sad\")"
   ]
  },
  {
   "cell_type": "code",
   "execution_count": null,
   "id": "3348eecc",
   "metadata": {},
   "outputs": [],
   "source": [
    "number = 0\n",
    "if number >0:\n",
    "    print(\"positive Number\")\n",
    "elif number ==0:\n",
    "    print(\"zero\")\n",
    "else:\n",
    "    print(\"Negative number\")\n",
    "    \n",
    "print(\" you exit man \")"
   ]
  },
  {
   "cell_type": "code",
   "execution_count": null,
   "id": "f1fa58f6",
   "metadata": {},
   "outputs": [],
   "source": [
    "lang = ['python','C','C++','JAVA']\n",
    "\n",
    "for i in lang:\n",
    "    print(i)"
   ]
  },
  {
   "cell_type": "code",
   "execution_count": null,
   "id": "764ca21a",
   "metadata": {},
   "outputs": [],
   "source": [
    "name = \"Akash Santosh Nair\"\n",
    "for i in name:\n",
    "    print(i,end =\"\")"
   ]
  },
  {
   "cell_type": "code",
   "execution_count": null,
   "id": "fb2ddf48",
   "metadata": {},
   "outputs": [],
   "source": [
    "c = {\"Facebook\",\"Youtube\",\"Instagram\",\"Whatsapp\",\"Twitter\"}\n",
    "for i in c:\n",
    "    if i == \"Twitter\":\n",
    "       print(i,\"is Purchased by Elon MUsk.\")"
   ]
  },
  {
   "cell_type": "code",
   "execution_count": null,
   "id": "d83df130",
   "metadata": {},
   "outputs": [],
   "source": [
    "app_form={'Name :':'Akash nair','Contact :': 987654321,'Email_id:':'Akashnair@gmail.com'}\n",
    "for i in app_form.keys():\n",
    "    print(i)"
   ]
  },
  {
   "cell_type": "code",
   "execution_count": null,
   "id": "fd049b2f",
   "metadata": {},
   "outputs": [],
   "source": [
    "for i in app_form.values():\n",
    "    print(i)"
   ]
  },
  {
   "cell_type": "code",
   "execution_count": null,
   "id": "0ccc3d24",
   "metadata": {},
   "outputs": [],
   "source": [
    "for i,j in app_form.items():\n",
    "    print(i,j)"
   ]
  },
  {
   "cell_type": "code",
   "execution_count": null,
   "id": "2d012db0",
   "metadata": {},
   "outputs": [],
   "source": [
    "# the range function()\n",
    "for i in range (1,10):\n",
    "        print(i,end = \" \")"
   ]
  },
  {
   "cell_type": "code",
   "execution_count": null,
   "id": "72d7e664",
   "metadata": {},
   "outputs": [],
   "source": [
    "for i in range (0,10,3):\n",
    "        print(i,end = \" \")"
   ]
  },
  {
   "cell_type": "code",
   "execution_count": null,
   "id": "e1309241",
   "metadata": {},
   "outputs": [],
   "source": [
    "name = \" Akash Santosh Nair\"\n",
    "for i in name:\n",
    "    print(i,end = \" \")"
   ]
  },
  {
   "cell_type": "code",
   "execution_count": null,
   "id": "3079479b",
   "metadata": {},
   "outputs": [],
   "source": [
    "a = ['Name :','Contact :','Email_id:']\n",
    "b =['Akash nair',987654321,'Akashnair@gmail.com']\n",
    "for i,j in zip(a,b):\n",
    "    print(i,j)"
   ]
  },
  {
   "cell_type": "code",
   "execution_count": null,
   "id": "96e820e7",
   "metadata": {},
   "outputs": [],
   "source": [
    "sq =[]\n",
    "for i in range(10):\n",
    "     sq.append(i*i)\n",
    "sq"
   ]
  },
  {
   "cell_type": "code",
   "execution_count": null,
   "id": "912d2fa4",
   "metadata": {},
   "outputs": [],
   "source": [
    "# LIST COMPREHENSIONS : NEW_LIST = [MATH EXPRESSION FOR MEMBER IN ITERABLE]\n",
    "new_list = [i*i for i in range(15)]\n",
    "new_list"
   ]
  },
  {
   "cell_type": "code",
   "execution_count": null,
   "id": "7ad0e623",
   "metadata": {},
   "outputs": [],
   "source": [
    "Input = [1,3,4,5,6,7,8,9,10]\n",
    "Output = []\n",
    "for i in Input:\n",
    "    if i%2 ==0:\n",
    "        Output.append(i)\n",
    "        \n",
    "Output    "
   ]
  },
  {
   "cell_type": "code",
   "execution_count": null,
   "id": "aa4cf01f",
   "metadata": {},
   "outputs": [],
   "source": [
    "Output = [i for i in Input if i%2==0]\n",
    "Output"
   ]
  },
  {
   "cell_type": "code",
   "execution_count": null,
   "id": "a57b115a",
   "metadata": {},
   "outputs": [],
   "source": [
    "li = [1,2,13,14,10,11,12]\n",
    "ol = {}\n",
    "for i in li :\n",
    "    if (i%2!=0):\n",
    "        ol[i]=i**3\n",
    "ol        "
   ]
  },
  {
   "cell_type": "code",
   "execution_count": null,
   "id": "348ee1a7",
   "metadata": {},
   "outputs": [],
   "source": [
    "ol = [i:i**3 for i in li ]"
   ]
  },
  {
   "cell_type": "code",
   "execution_count": 10,
   "id": "22674d04",
   "metadata": {},
   "outputs": [
    {
     "name": "stdout",
     "output_type": "stream",
     "text": [
      "0\n",
      "1\n",
      "2\n",
      "3\n",
      "4\n",
      "5\n",
      "6\n",
      "7\n",
      "8\n",
      "9\n"
     ]
    },
    {
     "data": {
      "text/plain": [
       "[0, 2, 4, 6, 8, 10, 12, 14, 16, 18]"
      ]
     },
     "execution_count": 10,
     "metadata": {},
     "output_type": "execute_result"
    }
   ],
   "source": [
    "for i in range (10):\n",
    "        print(i)\n",
    "        new_list = [i+i for i in range(10)]\n",
    "new_list\n",
    "        "
   ]
  },
  {
   "cell_type": "code",
   "execution_count": 12,
   "id": "0c5715d2",
   "metadata": {},
   "outputs": [
    {
     "name": "stdout",
     "output_type": "stream",
     "text": [
      "[0, 1, 2, 3, 4, 5, 6, 7, 8, 9]\n",
      "[0, 2, 4, 6, 8, 10, 12, 14, 16, 18]\n"
     ]
    }
   ],
   "source": [
    "natual_number =[i for i in range (10)]\n",
    "natual_number_sum = [i+i for i in range(10)]\n",
    "\n",
    "print(natual_number)  \n",
    "print(natual_number_sum)"
   ]
  },
  {
   "cell_type": "code",
   "execution_count": null,
   "id": "03c152c1",
   "metadata": {},
   "outputs": [],
   "source": []
  }
 ],
 "metadata": {
  "kernelspec": {
   "display_name": "Python 3 (ipykernel)",
   "language": "python",
   "name": "python3"
  },
  "language_info": {
   "codemirror_mode": {
    "name": "ipython",
    "version": 3
   },
   "file_extension": ".py",
   "mimetype": "text/x-python",
   "name": "python",
   "nbconvert_exporter": "python",
   "pygments_lexer": "ipython3",
   "version": "3.9.13"
  }
 },
 "nbformat": 4,
 "nbformat_minor": 5
}
