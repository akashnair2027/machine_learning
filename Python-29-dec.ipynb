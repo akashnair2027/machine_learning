{
 "cells": [
  {
   "cell_type": "markdown",
   "id": "456793ed",
   "metadata": {},
   "source": [
    "# array"
   ]
  },
  {
   "cell_type": "code",
   "execution_count": 3,
   "id": "223a0ca6",
   "metadata": {},
   "outputs": [
    {
     "data": {
      "text/plain": [
       "array([1, 3, 4])"
      ]
     },
     "execution_count": 3,
     "metadata": {},
     "output_type": "execute_result"
    }
   ],
   "source": [
    "import numpy as np\n",
    "array = np.array([1,3,4])\n",
    "array"
   ]
  },
  {
   "cell_type": "code",
   "execution_count": 5,
   "id": "3017c3d5",
   "metadata": {},
   "outputs": [
    {
     "name": "stdout",
     "output_type": "stream",
     "text": [
      "[0.5 1.5 2. ]\n"
     ]
    }
   ],
   "source": [
    "print(array/2)"
   ]
  },
  {
   "cell_type": "code",
   "execution_count": 7,
   "id": "40ac77d0",
   "metadata": {},
   "outputs": [],
   "source": [
    "# if you have a long sequence of items  consider using an array \n",
    "# this structure offers more efficient data storage\n",
    "# if you have numerical operations with your combination of items use array. data analytics and data science rely on arrays."
   ]
  },
  {
   "cell_type": "code",
   "execution_count": 41,
   "id": "b73fe677",
   "metadata": {},
   "outputs": [
    {
     "name": "stdout",
     "output_type": "stream",
     "text": [
      "[1 3 4]\n",
      "\n",
      "[[1 4 5]\n",
      " [3 6 5]]\n",
      "\n",
      "[[[ 1  2  3]\n",
      "  [ 3  4  5]\n",
      "  [ 6  7  8]\n",
      "  [23 45 67]\n",
      "  [34 56 76]]]\n",
      "\n"
     ]
    }
   ],
   "source": [
    "b =  np.array([1,3,4])\n",
    "print(b)\n",
    "print()\n",
    "c = np.array([[1,4,5],[3,6,5]])\n",
    "print(c)\n",
    "print()\n",
    "d  = np.array([[[1,2,3],[3,4,5],[6,7,8],[23,45,67],[34,56,76]]])\n",
    "print(d)\n",
    "print()"
   ]
  },
  {
   "cell_type": "code",
   "execution_count": 42,
   "id": "ba95c915",
   "metadata": {},
   "outputs": [],
   "source": [
    "# function to print the dimensions\n",
    "# print(array_name.ndim)\n"
   ]
  },
  {
   "cell_type": "code",
   "execution_count": 43,
   "id": "41a2ddd0",
   "metadata": {},
   "outputs": [
    {
     "data": {
      "text/plain": [
       "((3,), (2, 3), (1, 5, 3))"
      ]
     },
     "execution_count": 43,
     "metadata": {},
     "output_type": "execute_result"
    }
   ],
   "source": [
    "b.shape, c.shape,d.shape"
   ]
  },
  {
   "cell_type": "code",
   "execution_count": 44,
   "id": "6da5e8ab",
   "metadata": {},
   "outputs": [
    {
     "name": "stdout",
     "output_type": "stream",
     "text": [
      "[[1 4 5]\n",
      " [3 6 5]]\n",
      "\n"
     ]
    }
   ],
   "source": [
    "print(c)\n",
    "print()"
   ]
  },
  {
   "cell_type": "code",
   "execution_count": 45,
   "id": "5ceb75e5",
   "metadata": {},
   "outputs": [
    {
     "name": "stdout",
     "output_type": "stream",
     "text": [
      "[[1 4]\n",
      " [5 3]\n",
      " [6 5]]\n"
     ]
    }
   ],
   "source": [
    "ak = c.reshape(3,2)\n",
    "print(ak)"
   ]
  },
  {
   "cell_type": "code",
   "execution_count": 46,
   "id": "ac725251",
   "metadata": {},
   "outputs": [
    {
     "data": {
      "text/plain": [
       "array([[[ 1,  2,  3],\n",
       "        [ 3,  4,  5],\n",
       "        [ 6,  7,  8],\n",
       "        [23, 45, 67],\n",
       "        [34, 56, 76]]])"
      ]
     },
     "execution_count": 46,
     "metadata": {},
     "output_type": "execute_result"
    }
   ],
   "source": [
    "d"
   ]
  },
  {
   "cell_type": "code",
   "execution_count": 47,
   "id": "c835a236",
   "metadata": {},
   "outputs": [
    {
     "name": "stdout",
     "output_type": "stream",
     "text": [
      "56\n"
     ]
    }
   ],
   "source": [
    "print(d[0][4][1])"
   ]
  },
  {
   "cell_type": "code",
   "execution_count": 48,
   "id": "14ec60ee",
   "metadata": {},
   "outputs": [
    {
     "data": {
      "text/plain": [
       "array([[1, 4, 5],\n",
       "       [3, 6, 5]])"
      ]
     },
     "execution_count": 48,
     "metadata": {},
     "output_type": "execute_result"
    }
   ],
   "source": [
    "c"
   ]
  },
  {
   "cell_type": "code",
   "execution_count": 49,
   "id": "b56f773f",
   "metadata": {},
   "outputs": [
    {
     "data": {
      "text/plain": [
       "array([[4, 5],\n",
       "       [6, 5]])"
      ]
     },
     "execution_count": 49,
     "metadata": {},
     "output_type": "execute_result"
    }
   ],
   "source": [
    "c[0:2,1:3]"
   ]
  },
  {
   "cell_type": "code",
   "execution_count": 50,
   "id": "4aa74c4f",
   "metadata": {},
   "outputs": [
    {
     "data": {
      "text/plain": [
       "array([[4],\n",
       "       [6]])"
      ]
     },
     "execution_count": 50,
     "metadata": {},
     "output_type": "execute_result"
    }
   ],
   "source": [
    "c[0:2,1:2]"
   ]
  },
  {
   "cell_type": "code",
   "execution_count": 51,
   "id": "453b622a",
   "metadata": {},
   "outputs": [
    {
     "data": {
      "text/plain": [
       "array([[4, 5]])"
      ]
     },
     "execution_count": 51,
     "metadata": {},
     "output_type": "execute_result"
    }
   ],
   "source": [
    "c[0:1,1:3]"
   ]
  },
  {
   "cell_type": "code",
   "execution_count": 53,
   "id": "9d7e6d28",
   "metadata": {},
   "outputs": [
    {
     "name": "stdout",
     "output_type": "stream",
     "text": [
      "[[0 0]\n",
      " [0 0]]\n",
      "\n"
     ]
    }
   ],
   "source": [
    "a = np.zeros((2,2),dtype='int')\n",
    "print(a)\n",
    "print()"
   ]
  },
  {
   "cell_type": "code",
   "execution_count": 56,
   "id": "4aa3e335",
   "metadata": {},
   "outputs": [
    {
     "name": "stdout",
     "output_type": "stream",
     "text": [
      "[[1 1]]\n",
      "\n"
     ]
    }
   ],
   "source": [
    "f = np.ones((1,2),dtype='int')\n",
    "print(f)\n",
    "print()"
   ]
  },
  {
   "cell_type": "code",
   "execution_count": 70,
   "id": "9d47f740",
   "metadata": {},
   "outputs": [
    {
     "name": "stdout",
     "output_type": "stream",
     "text": [
      "[[9 9]\n",
      " [9 9]]\n",
      "\n"
     ]
    }
   ],
   "source": [
    "n =np.full((2,2),9) \n",
    "print(n)\n",
    "print()"
   ]
  },
  {
   "cell_type": "code",
   "execution_count": 71,
   "id": "6b43f76e",
   "metadata": {},
   "outputs": [
    {
     "name": "stdout",
     "output_type": "stream",
     "text": [
      "[[1. 0. 0.]\n",
      " [0. 1. 0.]\n",
      " [0. 0. 1.]]\n",
      "\n"
     ]
    }
   ],
   "source": [
    "y = np.eye(3)\n",
    "print(y)\n",
    "print()"
   ]
  },
  {
   "cell_type": "code",
   "execution_count": 75,
   "id": "1d3fc818",
   "metadata": {},
   "outputs": [
    {
     "data": {
      "text/plain": [
       "array([[0.9649236 , 0.0857113 , 0.57509207, 0.99574827],\n",
       "       [0.68632381, 0.59931893, 0.41558664, 0.77468068]])"
      ]
     },
     "execution_count": 75,
     "metadata": {},
     "output_type": "execute_result"
    }
   ],
   "source": [
    "# creates an array filled with random variables\n",
    "e = np.random.random((2,4))\n",
    "e"
   ]
  },
  {
   "cell_type": "code",
   "execution_count": 83,
   "id": "c8485018",
   "metadata": {},
   "outputs": [
    {
     "data": {
      "text/plain": [
       "array([[  1,   2,   3,  45],\n",
       "       [ 56,  45,  67,  88],\n",
       "       [ 55,  34,  89, 443]])"
      ]
     },
     "execution_count": 83,
     "metadata": {},
     "output_type": "execute_result"
    }
   ],
   "source": [
    "r = np.array([[1,2,3,45],[56,45,67,88],[55,34,89,443]])\n",
    "r "
   ]
  },
  {
   "cell_type": "code",
   "execution_count": 85,
   "id": "24ce032c",
   "metadata": {},
   "outputs": [
    {
     "data": {
      "text/plain": [
       "array([[  1,   2,   3,  45],\n",
       "       [ 56,  45,  22,  22],\n",
       "       [ 55,  34,  89, 443]])"
      ]
     },
     "execution_count": 85,
     "metadata": {},
     "output_type": "execute_result"
    }
   ],
   "source": [
    "r[1,3]=22\n",
    "r"
   ]
  },
  {
   "cell_type": "code",
   "execution_count": 88,
   "id": "2516146c",
   "metadata": {},
   "outputs": [
    {
     "data": {
      "text/plain": [
       "array([1, 2, 3, 4])"
      ]
     },
     "execution_count": 88,
     "metadata": {},
     "output_type": "execute_result"
    }
   ],
   "source": [
    "np.arange(1,5)"
   ]
  },
  {
   "cell_type": "code",
   "execution_count": 91,
   "id": "ee19d428",
   "metadata": {},
   "outputs": [
    {
     "data": {
      "text/plain": [
       "array([45, 43, 41, 39, 37, 35, 33, 31, 29, 27, 25, 23, 21, 19, 17, 15, 13,\n",
       "       11,  9,  7,  5,  3,  1])"
      ]
     },
     "execution_count": 91,
     "metadata": {},
     "output_type": "execute_result"
    }
   ],
   "source": [
    "np.arange(45,0,-2)"
   ]
  },
  {
   "cell_type": "code",
   "execution_count": 95,
   "id": "7e178b09",
   "metadata": {},
   "outputs": [
    {
     "data": {
      "text/plain": [
       "array([[ 0,  1,  2],\n",
       "       [ 3,  4,  5],\n",
       "       [ 6,  7,  8],\n",
       "       [ 9, 10, 11]])"
      ]
     },
     "execution_count": 95,
     "metadata": {},
     "output_type": "execute_result"
    }
   ],
   "source": [
    "h = np.arange(12).reshape(4,3)\n",
    "h"
   ]
  },
  {
   "cell_type": "code",
   "execution_count": 96,
   "id": "1e76833b",
   "metadata": {},
   "outputs": [
    {
     "data": {
      "text/plain": [
       "array([ 1.  ,  5.75, 10.5 , 15.25, 20.  ])"
      ]
     },
     "execution_count": 96,
     "metadata": {},
     "output_type": "execute_result"
    }
   ],
   "source": [
    "y = np.linspace(1,20,5) # end range is inclusive\n",
    "y"
   ]
  },
  {
   "cell_type": "code",
   "execution_count": 98,
   "id": "85296ae1",
   "metadata": {},
   "outputs": [
    {
     "data": {
      "text/plain": [
       "array(['$', '$', '$', '$', '$', '$', '$'], dtype='<U1')"
      ]
     },
     "execution_count": 98,
     "metadata": {},
     "output_type": "execute_result"
    }
   ],
   "source": [
    "np.repeat(\"$\",7)\n"
   ]
  },
  {
   "cell_type": "code",
   "execution_count": 106,
   "id": "c6160f2c",
   "metadata": {},
   "outputs": [
    {
     "data": {
      "text/plain": [
       "4"
      ]
     },
     "execution_count": 106,
     "metadata": {},
     "output_type": "execute_result"
    }
   ],
   "source": [
    "np.random.randint(4,10)"
   ]
  },
  {
   "cell_type": "code",
   "execution_count": 111,
   "id": "57b422a2",
   "metadata": {},
   "outputs": [
    {
     "name": "stdout",
     "output_type": "stream",
     "text": [
      "[[111   2]\n",
      " [  3   4]]\n",
      "\n",
      "[[ 5 16]\n",
      " [17 18]]\n",
      "\n",
      "120\n",
      "\n",
      "[114   6]\n",
      "\n",
      "[113   7]\n",
      "[[11]\n",
      " [ 1]]\n",
      "[ 80 306]\n"
     ]
    }
   ],
   "source": [
    "x = np.array([[111,2],[3,4]])\n",
    "print(x)\n",
    "print()\n",
    "y = np.array([[5,16],[17,18]])\n",
    "print(y)\n",
    "print()\n",
    "print(np.sum(x))\n",
    "print()\n",
    "print(np.sum(x,axis=0))\n",
    "print()\n",
    "print(np.sum(x,axis=1))\n",
    "\n"
   ]
  },
  {
   "cell_type": "code",
   "execution_count": 112,
   "id": "3190d664",
   "metadata": {},
   "outputs": [
    {
     "data": {
      "text/plain": [
       "array([[ 5, 16],\n",
       "       [17, 18]])"
      ]
     },
     "execution_count": 112,
     "metadata": {},
     "output_type": "execute_result"
    }
   ],
   "source": [
    "y"
   ]
  },
  {
   "cell_type": "code",
   "execution_count": 113,
   "id": "97c493ea",
   "metadata": {},
   "outputs": [
    {
     "name": "stdout",
     "output_type": "stream",
     "text": [
      "[[12  2]]\n"
     ]
    }
   ],
   "source": [
    "print(np.diff(y,axis= 0))"
   ]
  },
  {
   "cell_type": "code",
   "execution_count": 114,
   "id": "cd4b3ea9",
   "metadata": {},
   "outputs": [
    {
     "name": "stdout",
     "output_type": "stream",
     "text": [
      "[ 80 306]\n"
     ]
    }
   ],
   "source": [
    "print(np.prod(y,axis= 1))"
   ]
  },
  {
   "cell_type": "markdown",
   "id": "ebf5875c",
   "metadata": {},
   "source": [
    "# PANDAS"
   ]
  },
  {
   "cell_type": "code",
   "execution_count": 115,
   "id": "748b3235",
   "metadata": {},
   "outputs": [],
   "source": [
    "import pandas as pd"
   ]
  },
  {
   "cell_type": "code",
   "execution_count": 116,
   "id": "b6475c1e",
   "metadata": {},
   "outputs": [
    {
     "data": {
      "text/plain": [
       "0    123\n",
       "1    456\n",
       "2    567\n",
       "dtype: int64"
      ]
     },
     "execution_count": 116,
     "metadata": {},
     "output_type": "execute_result"
    }
   ],
   "source": [
    "data = pd.Series([123,456,567])\n",
    "data"
   ]
  },
  {
   "cell_type": "code",
   "execution_count": 117,
   "id": "a579792e",
   "metadata": {},
   "outputs": [
    {
     "data": {
      "text/plain": [
       "123"
      ]
     },
     "execution_count": 117,
     "metadata": {},
     "output_type": "execute_result"
    }
   ],
   "source": [
    "# acess with index\n",
    "data[0]"
   ]
  },
  {
   "cell_type": "code",
   "execution_count": 119,
   "id": "ac82745d",
   "metadata": {},
   "outputs": [
    {
     "data": {
      "text/plain": [
       "number           420\n",
       "Name      Akash nair\n",
       "Class             15\n",
       "dtype: object"
      ]
     },
     "execution_count": 119,
     "metadata": {},
     "output_type": "execute_result"
    }
   ],
   "source": [
    "d = pd.Series([420,\"Akash nair\",15],index=[\"number\",\"Name\",\"Class\"])\n",
    "d"
   ]
  },
  {
   "cell_type": "code",
   "execution_count": 122,
   "id": "7a78b040",
   "metadata": {},
   "outputs": [
    {
     "data": {
      "text/plain": [
       "'Akash nair'"
      ]
     },
     "execution_count": 122,
     "metadata": {},
     "output_type": "execute_result"
    }
   ],
   "source": [
    "#access with index\n",
    "d['Name']"
   ]
  },
  {
   "cell_type": "code",
   "execution_count": 123,
   "id": "60be04df",
   "metadata": {},
   "outputs": [],
   "source": [
    "cal = {\"day1\":22,\"day2\":34,\"day3\":55}\n"
   ]
  },
  {
   "cell_type": "code",
   "execution_count": 130,
   "id": "ed618fa6",
   "metadata": {},
   "outputs": [
    {
     "data": {
      "text/plain": [
       "day1    22\n",
       "day2    34\n",
       "day3    55\n",
       "dtype: int64"
      ]
     },
     "execution_count": 130,
     "metadata": {},
     "output_type": "execute_result"
    }
   ],
   "source": [
    "s = pd.Series(cal)\n",
    "s"
   ]
  },
  {
   "cell_type": "markdown",
   "id": "fdc71111",
   "metadata": {},
   "source": [
    "# DATAFRAME"
   ]
  },
  {
   "cell_type": "raw",
   "id": "fdf1111f",
   "metadata": {},
   "source": [
    " A dataFrame is a two-dimensional data structure i.e data is aligned ina tabular fashion in rows and columns"
   ]
  },
  {
   "cell_type": "raw",
   "id": "7996fd43",
   "metadata": {},
   "source": [
    "from google.collab import files\n",
    " d = files.upload()"
   ]
  },
  {
   "cell_type": "code",
   "execution_count": 132,
   "id": "583df30f",
   "metadata": {},
   "outputs": [
    {
     "data": {
      "text/html": [
       "<div>\n",
       "<style scoped>\n",
       "    .dataframe tbody tr th:only-of-type {\n",
       "        vertical-align: middle;\n",
       "    }\n",
       "\n",
       "    .dataframe tbody tr th {\n",
       "        vertical-align: top;\n",
       "    }\n",
       "\n",
       "    .dataframe thead th {\n",
       "        text-align: right;\n",
       "    }\n",
       "</style>\n",
       "<table border=\"1\" class=\"dataframe\">\n",
       "  <thead>\n",
       "    <tr style=\"text-align: right;\">\n",
       "      <th></th>\n",
       "      <th>Names</th>\n",
       "    </tr>\n",
       "  </thead>\n",
       "  <tbody>\n",
       "    <tr>\n",
       "      <th>0</th>\n",
       "      <td>Akash</td>\n",
       "    </tr>\n",
       "    <tr>\n",
       "      <th>1</th>\n",
       "      <td>Mary</td>\n",
       "    </tr>\n",
       "    <tr>\n",
       "      <th>2</th>\n",
       "      <td>Tina</td>\n",
       "    </tr>\n",
       "    <tr>\n",
       "      <th>3</th>\n",
       "      <td>Valentina</td>\n",
       "    </tr>\n",
       "  </tbody>\n",
       "</table>\n",
       "</div>"
      ],
      "text/plain": [
       "       Names\n",
       "0      Akash\n",
       "1       Mary\n",
       "2       Tina\n",
       "3  Valentina"
      ]
     },
     "execution_count": 132,
     "metadata": {},
     "output_type": "execute_result"
    }
   ],
   "source": [
    "a = [\"Akash\",\"Mary\",\"Tina\",\"Valentina\"]\n",
    "df = pd.DataFrame(a,columns = [\"Names\"])\n",
    "df"
   ]
  },
  {
   "cell_type": "code",
   "execution_count": 134,
   "id": "7101137c",
   "metadata": {},
   "outputs": [
    {
     "data": {
      "text/html": [
       "<div>\n",
       "<style scoped>\n",
       "    .dataframe tbody tr th:only-of-type {\n",
       "        vertical-align: middle;\n",
       "    }\n",
       "\n",
       "    .dataframe tbody tr th {\n",
       "        vertical-align: top;\n",
       "    }\n",
       "\n",
       "    .dataframe thead th {\n",
       "        text-align: right;\n",
       "    }\n",
       "</style>\n",
       "<table border=\"1\" class=\"dataframe\">\n",
       "  <thead>\n",
       "    <tr style=\"text-align: right;\">\n",
       "      <th></th>\n",
       "      <th>Names</th>\n",
       "      <th>Age</th>\n",
       "    </tr>\n",
       "  </thead>\n",
       "  <tbody>\n",
       "    <tr>\n",
       "      <th>0</th>\n",
       "      <td>akash</td>\n",
       "      <td>25</td>\n",
       "    </tr>\n",
       "    <tr>\n",
       "      <th>1</th>\n",
       "      <td>Tina</td>\n",
       "      <td>24</td>\n",
       "    </tr>\n",
       "    <tr>\n",
       "      <th>2</th>\n",
       "      <td>gillu</td>\n",
       "      <td>5</td>\n",
       "    </tr>\n",
       "    <tr>\n",
       "      <th>3</th>\n",
       "      <td>Billu</td>\n",
       "      <td>1</td>\n",
       "    </tr>\n",
       "  </tbody>\n",
       "</table>\n",
       "</div>"
      ],
      "text/plain": [
       "   Names  Age\n",
       "0  akash   25\n",
       "1   Tina   24\n",
       "2  gillu    5\n",
       "3  Billu    1"
      ]
     },
     "execution_count": 134,
     "metadata": {},
     "output_type": "execute_result"
    }
   ],
   "source": [
    "b = [[\"akash\",25],[\"Tina\",24],[\"gillu\",5],[\"Billu\",1]]\n",
    "df1 = pd.DataFrame(b,columns=[\"Names\",\"Age\"])\n",
    "df1\n"
   ]
  },
  {
   "cell_type": "code",
   "execution_count": 136,
   "id": "96771195",
   "metadata": {},
   "outputs": [
    {
     "data": {
      "text/html": [
       "<div>\n",
       "<style scoped>\n",
       "    .dataframe tbody tr th:only-of-type {\n",
       "        vertical-align: middle;\n",
       "    }\n",
       "\n",
       "    .dataframe tbody tr th {\n",
       "        vertical-align: top;\n",
       "    }\n",
       "\n",
       "    .dataframe thead th {\n",
       "        text-align: right;\n",
       "    }\n",
       "</style>\n",
       "<table border=\"1\" class=\"dataframe\">\n",
       "  <thead>\n",
       "    <tr style=\"text-align: right;\">\n",
       "      <th></th>\n",
       "      <th>ID</th>\n",
       "      <th>DEPARTMENT</th>\n",
       "    </tr>\n",
       "  </thead>\n",
       "  <tbody>\n",
       "    <tr>\n",
       "      <th>0</th>\n",
       "      <td>101</td>\n",
       "      <td>BSC</td>\n",
       "    </tr>\n",
       "    <tr>\n",
       "      <th>1</th>\n",
       "      <td>102</td>\n",
       "      <td>MSC</td>\n",
       "    </tr>\n",
       "    <tr>\n",
       "      <th>2</th>\n",
       "      <td>103</td>\n",
       "      <td>MCA</td>\n",
       "    </tr>\n",
       "  </tbody>\n",
       "</table>\n",
       "</div>"
      ],
      "text/plain": [
       "    ID DEPARTMENT\n",
       "0  101        BSC\n",
       "1  102        MSC\n",
       "2  103        MCA"
      ]
     },
     "execution_count": 136,
     "metadata": {},
     "output_type": "execute_result"
    }
   ],
   "source": [
    "c = {\"ID\":[101,102,103],\"DEPARTMENT\":[\"BSC\",\"MSC\",\"MCA\"]}\n",
    "df3 = pd.DataFrame(c)\n",
    "df3"
   ]
  },
  {
   "cell_type": "code",
   "execution_count": null,
   "id": "1ee6fe4e",
   "metadata": {},
   "outputs": [],
   "source": []
  },
  {
   "cell_type": "code",
   "execution_count": null,
   "id": "ed442fec",
   "metadata": {},
   "outputs": [],
   "source": []
  },
  {
   "cell_type": "code",
   "execution_count": null,
   "id": "c81c454b",
   "metadata": {},
   "outputs": [],
   "source": []
  },
  {
   "cell_type": "code",
   "execution_count": null,
   "id": "4bd7d774",
   "metadata": {},
   "outputs": [],
   "source": []
  },
  {
   "cell_type": "code",
   "execution_count": null,
   "id": "6ea8e0fe",
   "metadata": {},
   "outputs": [],
   "source": []
  },
  {
   "cell_type": "code",
   "execution_count": null,
   "id": "380c886f",
   "metadata": {},
   "outputs": [],
   "source": []
  },
  {
   "cell_type": "code",
   "execution_count": null,
   "id": "528ee72e",
   "metadata": {},
   "outputs": [],
   "source": []
  }
 ],
 "metadata": {
  "kernelspec": {
   "display_name": "Python 3 (ipykernel)",
   "language": "python",
   "name": "python3"
  },
  "language_info": {
   "codemirror_mode": {
    "name": "ipython",
    "version": 3
   },
   "file_extension": ".py",
   "mimetype": "text/x-python",
   "name": "python",
   "nbconvert_exporter": "python",
   "pygments_lexer": "ipython3",
   "version": "3.9.13"
  }
 },
 "nbformat": 4,
 "nbformat_minor": 5
}
