{
 "cells": [
  {
   "cell_type": "code",
   "execution_count": null,
   "id": "b2b18cdf",
   "metadata": {},
   "outputs": [],
   "source": [
    "OBJECT ORIENTED PROGRAMMING LANGUGE"
   ]
  },
  {
   "cell_type": "code",
   "execution_count": null,
   "id": "5693ee87",
   "metadata": {},
   "outputs": [],
   "source": [
    "Oops (object oriented Programing)\n",
    "class :-\n",
    "object :-"
   ]
  },
  {
   "cell_type": "code",
   "execution_count": null,
   "id": "87a4313e",
   "metadata": {},
   "outputs": [],
   "source": [
    "In python Object Oriented"
   ]
  },
  {
   "cell_type": "code",
   "execution_count": null,
   "id": "ee366b51",
   "metadata": {},
   "outputs": [],
   "source": [
    "#class name should be in pascal calse (first letter of evry word is capital)\n",
    "\n",
    "print('ThisIsPascalcase')"
   ]
  },
  {
   "cell_type": "code",
   "execution_count": null,
   "id": "ce240427",
   "metadata": {},
   "outputs": [],
   "source": [
    "print('thisIsCamelCase')  #camel case"
   ]
  },
  {
   "cell_type": "code",
   "execution_count": null,
   "id": "82f295e1",
   "metadata": {},
   "outputs": [],
   "source": [
    "print('snake_case')   #joint two strings"
   ]
  },
  {
   "cell_type": "code",
   "execution_count": 16,
   "id": "d38c0b58",
   "metadata": {},
   "outputs": [],
   "source": [
    "class Atm:\n",
    "    #function vs methods(functions inside class)\n",
    "    def _init_self():\n",
    "        self.pin =\"\"\n",
    "        self.balance = 0\n",
    "        self.menu()\n",
    "    def menu(self):\n",
    "        user = input(\"\"\"\n",
    "        hello , how would you like to continue ?\n",
    "        1.Enter 1 Crete Pin\n",
    "        2.Enter 2 to deposite\n",
    "        3.Enter 3 to withdraw\n",
    "        4.Enter 4 to cheak balance\n",
    "        5.Enter 5 to Exit \"\"\")\n",
    "        \n",
    "        \n",
    "        if user == '1':\n",
    "            print(\"crete pin\")\n",
    "        elif user =='2':\n",
    "            print(\"deposite\")\n",
    "        elif user =='3':\n",
    "             print(\"withdraw\")\n",
    "                \n",
    "                \n",
    "                \n",
    "        elif user =='4':\n",
    "             print(\"cheak Balance\")\n",
    "        else :\n",
    "             print(\"Exit\")"
   ]
  },
  {
   "cell_type": "code",
   "execution_count": null,
   "id": "e5ed9d69",
   "metadata": {},
   "outputs": [],
   "source": [
    "init() :- Counstructer method :- The body of init automatically gets excuted when a object is created of a perticuler class"
   ]
  },
  {
   "cell_type": "code",
   "execution_count": null,
   "id": "f4349369",
   "metadata": {},
   "outputs": [],
   "source": [
    "Sbi = Atm()"
   ]
  },
  {
   "cell_type": "code",
   "execution_count": null,
   "id": "6c563c0c",
   "metadata": {},
   "outputs": [],
   "source": [
    "Sbi.menu()"
   ]
  },
  {
   "cell_type": "markdown",
   "id": "c1a58584",
   "metadata": {},
   "source": [
    "# Date:-08/02/2023"
   ]
  },
  {
   "cell_type": "code",
   "execution_count": null,
   "id": "c824db4d",
   "metadata": {},
   "outputs": [],
   "source": [
    "# _init_ :-Constructor (is also call Magic Mwthod) in the counstructor the written function is automaticall exceuted hance we does not need to call this function\n",
    "# Method:- The body of init automatically gets excecuted when a object is creted  of a perticuler class"
   ]
  },
  {
   "cell_type": "code",
   "execution_count": 32,
   "id": "c84990c7",
   "metadata": {},
   "outputs": [],
   "source": [
    "# Constructor : special method or magic method\n",
    "\n",
    "# these get called cannot be call by object,\n",
    "\n",
    "# code which we want to excute without user intervention(configuration,internet,look)\n",
    "\n",
    "# Exp.\n",
    "#   World : class\n",
    "# human : object\n",
    "# god : Programmer \n",
    "#     in this case user or human does not know about his destiny or deth hance the destiny or deth is written in _init_(function)\n",
    "\n",
    "\n",
    "\n",
    "\n",
    "\n"
   ]
  },
  {
   "cell_type": "code",
   "execution_count": 2,
   "id": "0734b8f4",
   "metadata": {},
   "outputs": [],
   "source": [
    "# Exp.\n",
    "class Atm1:\n",
    "    def __init__(self):\n",
    "        print(\"hello\")\n",
    "    def menu(self):\n",
    "        \n",
    "        pass"
   ]
  },
  {
   "cell_type": "code",
   "execution_count": 3,
   "id": "9137e31a",
   "metadata": {},
   "outputs": [
    {
     "name": "stdout",
     "output_type": "stream",
     "text": [
      "hello\n"
     ]
    }
   ],
   "source": [
    "a = Atm1()"
   ]
  },
  {
   "cell_type": "code",
   "execution_count": 4,
   "id": "2543957f",
   "metadata": {},
   "outputs": [
    {
     "data": {
      "text/plain": [
       "<__main__.Atm1 at 0x1d14afaec70>"
      ]
     },
     "execution_count": 4,
     "metadata": {},
     "output_type": "execute_result"
    }
   ],
   "source": [
    "a"
   ]
  },
  {
   "cell_type": "markdown",
   "id": "a817a6f1",
   "metadata": {},
   "source": [
    "# Home Work \n",
    "    WEB SCRIPING PROJECT"
   ]
  },
  {
   "cell_type": "code",
   "execution_count": 6,
   "id": "1b8e06fd",
   "metadata": {},
   "outputs": [],
   "source": [
    "class Atm:\n",
    "    #function vs methods(functions inside class)\n",
    "    def __init__self():\n",
    "        self.pin =\"\"\n",
    "        self.balance = 0\n",
    "        self.menu()\n",
    "    def menu(self):\n",
    "        user = input(\"\"\"\n",
    "        hello , how would you like to continue ?\n",
    "        1.Enter 1 Crete Pin\n",
    "        2.Enter 2 to deposite\n",
    "        3.Enter 3 to withdraw\n",
    "        4.Enter 4 to cheak balance\n",
    "        5.Enter 5 to Exit \"\"\")\n",
    "        \n",
    "        \n",
    "        if user == '1':\n",
    "            print(\"crete pin\")\n",
    "        elif user =='2':\n",
    "            print(\"deposite\")\n",
    "        elif user =='3':\n",
    "             print(\"withdraw\")\n",
    "                \n",
    "                \n",
    "                \n",
    "        elif user =='4':\n",
    "             print(\"cheak Balance\")\n",
    "        else :\n",
    "             print(\"Exit\")"
   ]
  },
  {
   "cell_type": "code",
   "execution_count": 7,
   "id": "7d4485b3",
   "metadata": {},
   "outputs": [],
   "source": [
    "Sbi = Atm()"
   ]
  },
  {
   "cell_type": "code",
   "execution_count": 8,
   "id": "0902272a",
   "metadata": {},
   "outputs": [
    {
     "name": "stdout",
     "output_type": "stream",
     "text": [
      "\n",
      "        hello , how would you like to continue ?\n",
      "        1.Enter 1 Crete Pin\n",
      "        2.Enter 2 to deposite\n",
      "        3.Enter 3 to withdraw\n",
      "        4.Enter 4 to cheak balance\n",
      "        5.Enter 5 to Exit \n",
      "Exit\n"
     ]
    }
   ],
   "source": [
    "Sbi.menu()"
   ]
  },
  {
   "cell_type": "code",
   "execution_count": 9,
   "id": "cd117bc7",
   "metadata": {},
   "outputs": [],
   "source": [
    "#ATM  Programme"
   ]
  },
  {
   "cell_type": "code",
   "execution_count": 10,
   "id": "fdbeaa3a",
   "metadata": {},
   "outputs": [],
   "source": [
    "class Atm:\n",
    "    \n",
    "    #function vs method (function inside class)\n",
    "    \n",
    "    def __init__(self):   #Constructor or Magic function\n",
    "        \n",
    "        self.pin =\" \"    #Self:- is the objct who see or perform on our code\n",
    "        self.balance = 0\n",
    "        self.menu()\n",
    "        \n",
    "    def menu(self):   #is in the function or Magic method it should be run Automaically.\n",
    "        user = input(\"\"\" Hello ,How Would You Like To Continue ?  \n",
    "        1.Enter 1 Crete Pin\n",
    "        2.Enter 2 to deposite\n",
    "        3.Enter 3 to withdraw\n",
    "        4.Enter 4 to cheak balance\n",
    "        5.Enter 5 to Exit \n",
    "        \"\"\")   #to give the input from the user\n",
    "        \n",
    "        if user == '1':\n",
    "            #print(\"crete pin\")\n",
    "            self.create_pin()   #\n",
    "        elif user =='2':\n",
    "            #print(\"deposite\")   #\n",
    "            self.deposit()\n",
    "            \n",
    "        elif user =='3':\n",
    "            # print(\"withdraw\")\n",
    "            self.withdraw()\n",
    "        \n",
    "        elif user =='4':\n",
    "             #print(\"cheak Balance\")\n",
    "            self.check.balance()\n",
    "        else :\n",
    "             print(\"Exit\")\n",
    "    \n",
    "    def create_pin(self):\n",
    "        self.pin = input('Enter you pin :')  #first you need to set pin \n",
    "        print('Pin set Successfully')\n",
    "    \n",
    "    def deposit(self):\n",
    "        temp = input('Enter Your pin')    #after enter pin it will chek the pin is match with the set pin or not \n",
    "        if temp == self.pin:      #if pin is match with the pin set by user\n",
    "            amount = int(input('Enter the Amout')) \n",
    "            self.balance = self.balance+amount\n",
    "            print(\"Deposit Successfuly\")\n",
    "        else:\n",
    "            print(\"invalid pin\")\n",
    "            \n",
    "    def withdraw(self):\n",
    "        temp = input(\"Enter the pin\")\n",
    "        if temp == self.pin:\n",
    "            amount = int(input('Enter the amount'))\n",
    "            if amount<self.balance:\n",
    "                self.balance = self.balance-amount\n",
    "                print('Operation successfull')\n",
    "            else:\n",
    "                print(\"insufficient funds\")\n",
    "        else:\n",
    "            print(\"invailid pin\")\n",
    "    \n",
    "    def cheak_balance(self):\n",
    "        temp =input(\"Enter Your pin \")\n",
    "        if temp == self.pin:\n",
    "            print(self.balance)\n",
    "        else:\n",
    "            print(\"invalid pin\")\n"
   ]
  },
  {
   "cell_type": "code",
   "execution_count": 11,
   "id": "c9b6a1c4",
   "metadata": {},
   "outputs": [
    {
     "name": "stdout",
     "output_type": "stream",
     "text": [
      " Hello ,How Would You Like To Continue ?  \n",
      "        1.Enter 1 Crete Pin\n",
      "        2.Enter 2 to deposite\n",
      "        3.Enter 3 to withdraw\n",
      "        4.Enter 4 to cheak balance\n",
      "        5.Enter 5 to Exit \n",
      "        \n",
      "Exit\n"
     ]
    }
   ],
   "source": [
    "sbi = Atm()"
   ]
  },
  {
   "cell_type": "code",
   "execution_count": 12,
   "id": "0aea2fac",
   "metadata": {},
   "outputs": [
    {
     "name": "stdout",
     "output_type": "stream",
     "text": [
      "Enter Your pin\n",
      "invalid pin\n"
     ]
    }
   ],
   "source": [
    "sbi.deposit()"
   ]
  },
  {
   "cell_type": "code",
   "execution_count": 4,
   "id": "2440c4eb",
   "metadata": {},
   "outputs": [
    {
     "name": "stdout",
     "output_type": "stream",
     "text": [
      "Enter the pin45\n",
      "Enter the amount10000\n",
      "Operation successfull\n"
     ]
    }
   ],
   "source": [
    "sbi.withdraw()"
   ]
  },
  {
   "cell_type": "code",
   "execution_count": 5,
   "id": "4cfcc550",
   "metadata": {},
   "outputs": [
    {
     "name": "stdout",
     "output_type": "stream",
     "text": [
      "Enter Your pin 45\n",
      "40000\n"
     ]
    }
   ],
   "source": [
    "sbi.cheak_balance()"
   ]
  },
  {
   "cell_type": "code",
   "execution_count": 7,
   "id": "b27a304b",
   "metadata": {},
   "outputs": [],
   "source": [
    "#self\n",
    "\n",
    "class ThisM:\n",
    "    def __init__(self):\n",
    "        \n",
    "        print(id(self))\n",
    "    def menu(self):\n",
    "        pass\n",
    "    "
   ]
  },
  {
   "cell_type": "code",
   "execution_count": 8,
   "id": "dfccf8f1",
   "metadata": {},
   "outputs": [
    {
     "name": "stdout",
     "output_type": "stream",
     "text": [
      "1320041626880\n"
     ]
    }
   ],
   "source": [
    "y = ThisM() #self address  #it shows the memory address of y and id is same it will show the object and slef is same"
   ]
  },
  {
   "cell_type": "code",
   "execution_count": 9,
   "id": "a5ecde74",
   "metadata": {},
   "outputs": [
    {
     "data": {
      "text/plain": [
       "1320041626880"
      ]
     },
     "execution_count": 9,
     "metadata": {},
     "output_type": "execute_result"
    }
   ],
   "source": [
    "id(y) #object Address"
   ]
  },
  {
   "cell_type": "raw",
   "id": "51a2d823",
   "metadata": {},
   "source": [
    "Why self is written in evry class?\n",
    "class has data and function \n",
    "The functions of a class can be accessed only by the object of that class\n",
    "If init method has to call menu method, cannot do it directly , so self ( is that object everytime call any method) "
   ]
  },
  {
   "cell_type": "markdown",
   "id": "83e9badf",
   "metadata": {},
   "source": [
    "Lets Create our Own Datatype"
   ]
  },
  {
   "cell_type": "code",
   "execution_count": 10,
   "id": "8e3cbdd1",
   "metadata": {},
   "outputs": [
    {
     "name": "stdout",
     "output_type": "stream",
     "text": [
      "2.4642857142857144\n"
     ]
    }
   ],
   "source": [
    "a =5/7\n",
    "b =7/4\n",
    "print(a+b)   #python does not intrract with Fraction "
   ]
  },
  {
   "cell_type": "raw",
   "id": "28a7b911",
   "metadata": {},
   "source": [
    "Lest Create a class which handle fractions"
   ]
  },
  {
   "cell_type": "code",
   "execution_count": 2,
   "id": "0c77d2a6",
   "metadata": {},
   "outputs": [],
   "source": [
    "class Fractions:\n",
    "    def __init__(self,n,d):\n",
    "        self.num = n\n",
    "        self.den = d"
   ]
  },
  {
   "cell_type": "code",
   "execution_count": 3,
   "id": "c129ee62",
   "metadata": {},
   "outputs": [],
   "source": [
    "x = Fractions(4,6)"
   ]
  },
  {
   "cell_type": "code",
   "execution_count": 4,
   "id": "5510da01",
   "metadata": {},
   "outputs": [
    {
     "name": "stdout",
     "output_type": "stream",
     "text": [
      "<__main__.Fractions object at 0x00000224F71C6C70>\n"
     ]
    }
   ],
   "source": [
    "print(x)"
   ]
  },
  {
   "cell_type": "markdown",
   "id": "7b33373c",
   "metadata": {},
   "source": [
    "#    Date:-10/02/2023"
   ]
  },
  {
   "cell_type": "code",
   "execution_count": 8,
   "id": "eb96590f",
   "metadata": {},
   "outputs": [],
   "source": [
    "#Magic  MEthods (atomatically gets called when objects Gets Created)\n",
    "\n",
    "class Fraction:\n",
    "    def __init__(self,n,d):\n",
    "        self.num = n\n",
    "        self.den = d\n",
    "    def __str__(self):\n",
    "        return '{}/{}'.format(self.num,self.den) "
   ]
  },
  {
   "cell_type": "code",
   "execution_count": 9,
   "id": "48e99f81",
   "metadata": {},
   "outputs": [],
   "source": [
    "s = Fraction(3,5)"
   ]
  },
  {
   "cell_type": "code",
   "execution_count": 10,
   "id": "c7f71996",
   "metadata": {},
   "outputs": [
    {
     "name": "stdout",
     "output_type": "stream",
     "text": [
      "3/5\n"
     ]
    }
   ],
   "source": [
    "print(s)"
   ]
  },
  {
   "cell_type": "code",
   "execution_count": 11,
   "id": "7936a6a6",
   "metadata": {},
   "outputs": [],
   "source": [
    "l = Fraction(2,5)"
   ]
  },
  {
   "cell_type": "code",
   "execution_count": 14,
   "id": "1071ef92",
   "metadata": {},
   "outputs": [
    {
     "name": "stdout",
     "output_type": "stream",
     "text": [
      "2/5\n"
     ]
    }
   ],
   "source": [
    "print(l)"
   ]
  },
  {
   "cell_type": "code",
   "execution_count": 50,
   "id": "9df34108",
   "metadata": {},
   "outputs": [],
   "source": [
    "class Fraction:\n",
    "    def __init__(self,n,d):     #__init__ := Constructor  or Magic method\n",
    "        self.num = n\n",
    "        self.den = d\n",
    "    def __str__(self):\n",
    "        return \"{}/{}\".format(self.num,self.den)\n",
    "    \n",
    "    def __add__(self,other):\n",
    "        temp_num =self.num * other.den + other.num* self.den\n",
    "        temp_den =self.den * other.den          #logic for addition of Fraction\n",
    "        \n",
    "        return \"{}/{}\".format(temp_num,temp_den)\n",
    "    \n",
    "    def __sub__(self,other):\n",
    "        \n",
    "        temp_num =self.num * other.den - other.num* self.den\n",
    "        temp_den =self.den * other.den\n",
    "         \n",
    "        return \"{}/{}\".format(temp_num,temp_den)\n",
    "        \n",
    "    def __mul__(self,other):\n",
    "        \n",
    "        temp_num =self.num * other.num\n",
    "        temp_den =self.den * other.den\n",
    "         \n",
    "        return \"{}/{}\".format(temp_num,temp_den)\n",
    "   \n",
    "    def __truediv__(self,other):\n",
    "        \n",
    "        temp_num =self.num * other.num\n",
    "        temp_den =self.den * other.den\n",
    "         \n",
    "        return \"{}/{}\".format(temp_num,temp_den)\n",
    "    "
   ]
  },
  {
   "cell_type": "code",
   "execution_count": 51,
   "id": "649b5fdc",
   "metadata": {},
   "outputs": [],
   "source": [
    "a =Fraction(2,4)"
   ]
  },
  {
   "cell_type": "code",
   "execution_count": 52,
   "id": "17055868",
   "metadata": {},
   "outputs": [
    {
     "name": "stdout",
     "output_type": "stream",
     "text": [
      "2/4\n"
     ]
    }
   ],
   "source": [
    "print(a)"
   ]
  },
  {
   "cell_type": "code",
   "execution_count": 53,
   "id": "2df69b23",
   "metadata": {},
   "outputs": [],
   "source": [
    "b = Fraction(1,5)"
   ]
  },
  {
   "cell_type": "code",
   "execution_count": 54,
   "id": "dd60ae79",
   "metadata": {},
   "outputs": [
    {
     "name": "stdout",
     "output_type": "stream",
     "text": [
      "14/20\n",
      "6/20\n",
      "2/20\n",
      "2/20\n"
     ]
    }
   ],
   "source": [
    "print(a+b)\n",
    "print(a-b)\n",
    "print(a*b)\n",
    "print(a/b)"
   ]
  },
  {
   "cell_type": "code",
   "execution_count": 49,
   "id": "0e896c78",
   "metadata": {},
   "outputs": [
    {
     "name": "stdout",
     "output_type": "stream",
     "text": [
      "\n"
     ]
    }
   ],
   "source": [
    "print()"
   ]
  },
  {
   "cell_type": "markdown",
   "id": "c6d7a2f7",
   "metadata": {},
   "source": [
    "Instant Variable:-\n",
    "    is the type of variable whose Values are Diffrent For the Different Object."
   ]
  },
  {
   "cell_type": "code",
   "execution_count": null,
   "id": "25a6d0a3",
   "metadata": {},
   "outputs": [],
   "source": [
    "Encapsulation :-\n",
    "    is a macanisum of wrapping the data(variable) and code acting on the data (methods)\n",
    "    \n",
    "    \n",
    "   "
   ]
  },
  {
   "cell_type": "code",
   "execution_count": 15,
   "id": "bbc13c7e",
   "metadata": {},
   "outputs": [],
   "source": [
    "class Atm:\n",
    "    \n",
    "   \n",
    "    \n",
    "    def __init__(self):  \n",
    "        \n",
    "        self.__pin =\" \"    \n",
    "        self.__balance = 0\n",
    "        self.menu()\n",
    "        \n",
    "        \n",
    "    def get__pin(self):     #get() Method\n",
    "        return self.__pin\n",
    "    \n",
    "    def set__pin(self,new__pin):\n",
    "        self.__pin =new__pin\n",
    "        print(\"pin Changed\")\n",
    "     \n",
    "    def get__balance(self):\n",
    "        return self.__balance\n",
    "    \n",
    "    def set__balance(self,new__balance):  #set method()\n",
    "        self.__pin =new__balance\n",
    "        print(\"pin Changed\")\n",
    "        \n",
    "    def menu(self):  \n",
    "        user = input(\"\"\" Hello ,How Would You Like To Continue ?  \n",
    "        1.Enter 1 Crete Pin\n",
    "        2.Enter 2 to deposite\n",
    "        3.Enter 3 to withdraw\n",
    "        4.Enter 4 to cheak balance\n",
    "        5.Enter 5 to Exit \n",
    "        \"\"\")  \n",
    "        \n",
    "        if user == '1':\n",
    "            \n",
    "            self.create__pin()   \n",
    "        elif user =='2':\n",
    "            \n",
    "            self.deposit()\n",
    "            \n",
    "        elif user =='3':\n",
    "           \n",
    "            self.withdraw()\n",
    "        \n",
    "        elif user =='4':\n",
    "            \n",
    "            self.check.__balance()\n",
    "        else :\n",
    "             print(\"Exit\")\n",
    "    \n",
    "    def create__pin(self):\n",
    "        self.__pin = input('Enter you pin :')   \n",
    "        print('Pin set Successfully')\n",
    "    \n",
    "    def deposit(self):\n",
    "        temp = input('Enter Your pin') \n",
    "        if temp == self.__pin:     \n",
    "            amount = int(input('Enter the Amout')) \n",
    "            self.__balance = self.__balance+amount\n",
    "            print(\"Deposit Successfuly\")\n",
    "        else:\n",
    "            print(\"invalid pin\")\n",
    "            \n",
    "    def withdraw(self):\n",
    "        temp = input(\"Enter the pin\")\n",
    "        if temp == self.__pin:\n",
    "            amount = int(input('Enter the amount'))\n",
    "            if amount<self.__balance:\n",
    "                self.__balance = self.__balance-amount\n",
    "                print('Operation successfull')\n",
    "            else:\n",
    "                print(\"insufficient funds\")\n",
    "        else:\n",
    "            print(\"invailid pin\")\n",
    "    \n",
    "    def cheak__balance(self):\n",
    "        temp =input(\"Enter Your pin \")\n",
    "        if temp == self.__pin:\n",
    "            print(self.__balance)\n",
    "        else:\n",
    "            print(\"invalid pin\")\n"
   ]
  },
  {
   "cell_type": "code",
   "execution_count": 17,
   "id": "001487bb",
   "metadata": {},
   "outputs": [
    {
     "name": "stdout",
     "output_type": "stream",
     "text": [
      " Hello ,How Would You Like To Continue ?  \n",
      "        1.Enter 1 Crete Pin\n",
      "        2.Enter 2 to deposite\n",
      "        3.Enter 3 to withdraw\n",
      "        4.Enter 4 to cheak balance\n",
      "        5.Enter 5 to Exit \n",
      "        1\n",
      "Enter you pin :55\n",
      "Pin set Successfully\n"
     ]
    }
   ],
   "source": [
    "sbi = Atm()"
   ]
  },
  {
   "cell_type": "code",
   "execution_count": 18,
   "id": "c9150dd3",
   "metadata": {},
   "outputs": [
    {
     "name": "stdout",
     "output_type": "stream",
     "text": [
      "Enter Your pin55\n",
      "Enter the Amout5000\n",
      "Deposit Successfuly\n"
     ]
    }
   ],
   "source": [
    "sbi.deposit()"
   ]
  },
  {
   "cell_type": "code",
   "execution_count": 19,
   "id": "7a1ef8cd",
   "metadata": {},
   "outputs": [
    {
     "data": {
      "text/plain": [
       "5000"
      ]
     },
     "execution_count": 19,
     "metadata": {},
     "output_type": "execute_result"
    }
   ],
   "source": [
    "sbi.get__balance()"
   ]
  },
  {
   "cell_type": "code",
   "execution_count": 13,
   "id": "74b65f1b",
   "metadata": {},
   "outputs": [
    {
     "name": "stdout",
     "output_type": "stream",
     "text": [
      "pin Changed\n"
     ]
    }
   ],
   "source": [
    "sbi.set__pin(45)"
   ]
  },
  {
   "cell_type": "code",
   "execution_count": null,
   "id": "0ebc6e73",
   "metadata": {},
   "outputs": [],
   "source": [
    "Class Structure:-\n",
    "    - = it indicate private class\n",
    "    + = is indicate the public class\n",
    "    \n",
    "    "
   ]
  },
  {
   "cell_type": "markdown",
   "id": "60b47eaa",
   "metadata": {},
   "source": [
    "Refereance Variable :-"
   ]
  },
  {
   "cell_type": "code",
   "execution_count": null,
   "id": "956f6bb7",
   "metadata": {},
   "outputs": [],
   "source": [
    "Aggregation :\n",
    "    We have multipule classes in an application(eg. product,coustomer,address)\n",
    "    relationship between "
   ]
  },
  {
   "cell_type": "code",
   "execution_count": 21,
   "id": "012c2939",
   "metadata": {},
   "outputs": [],
   "source": [
    "#Exp of Aggregaation \n",
    "\n",
    "class customer:\n",
    "    def __init__(self,name,gender,address):\n",
    "        self.name = name                #in this Example they have aggregation relationship betwenn Customer and address\n",
    "        self.gender = gender\n",
    "        self.address =address\n",
    "        \n",
    "class address:\n",
    "    def __init__(self,city,pincode,state):\n",
    "        self.city =city\n",
    "        self.pincode =pincode\n",
    "        self.state = state"
   ]
  },
  {
   "cell_type": "code",
   "execution_count": 22,
   "id": "a37b822a",
   "metadata": {},
   "outputs": [],
   "source": [
    "add = address('pune',412201,'maha')"
   ]
  },
  {
   "cell_type": "code",
   "execution_count": 25,
   "id": "fe491893",
   "metadata": {},
   "outputs": [],
   "source": [
    "c = customer('vinay','Male',add)"
   ]
  },
  {
   "cell_type": "code",
   "execution_count": 27,
   "id": "b8aa93cb",
   "metadata": {},
   "outputs": [
    {
     "name": "stdout",
     "output_type": "stream",
     "text": [
      "pune\n"
     ]
    }
   ],
   "source": [
    "print(c.address.city)   #print the adrres of the person and the adress IS Access in cla belog to address"
   ]
  },
  {
   "cell_type": "code",
   "execution_count": 28,
   "id": "c1e8c852",
   "metadata": {},
   "outputs": [
    {
     "name": "stdout",
     "output_type": "stream",
     "text": [
      "Male\n"
     ]
    }
   ],
   "source": [
    "print(c.gender) #we directly access the gender in class customer"
   ]
  },
  {
   "cell_type": "code",
   "execution_count": 29,
   "id": "0e8d20f7",
   "metadata": {},
   "outputs": [
    {
     "name": "stdout",
     "output_type": "stream",
     "text": [
      "vinay\n"
     ]
    }
   ],
   "source": [
    "print(c.name)"
   ]
  },
  {
   "cell_type": "code",
   "execution_count": 35,
   "id": "b9158795",
   "metadata": {},
   "outputs": [],
   "source": [
    "class customer:\n",
    "    def __init__(self,name,gender,address):\n",
    "        self.name =name\n",
    "        self.gender =gender\n",
    "        self.address = address\n",
    "        \n",
    "    def edit_profile(self,new_name,new_city,new_pincode,new_state):\n",
    "        self.name =new_name\n",
    "        self.address.change_adress(new_name,new_city,new_pincode,new_state)\n",
    "        \n",
    "class address:\n",
    "    def __init__(self,city,pincode,state):\n",
    "        self.city =city\n",
    "        self.pincode=pincode\n",
    "        self.state = state\n",
    "        \n",
    "    def change_address(new_name,new_city,new_pincode,new_state):\n",
    "        self.name =new_name\n",
    "        self.city =new_city\n",
    "        self.pincode=new_pincode\n",
    "        self.state =new_state\n",
    "        "
   ]
  },
  {
   "cell_type": "code",
   "execution_count": 41,
   "id": "22134956",
   "metadata": {},
   "outputs": [
    {
     "ename": "AttributeError",
     "evalue": "'str' object has no attribute 'change_adress'",
     "output_type": "error",
     "traceback": [
      "\u001b[1;31m---------------------------------------------------------------------------\u001b[0m",
      "\u001b[1;31mAttributeError\u001b[0m                            Traceback (most recent call last)",
      "\u001b[1;32m~\\AppData\\Local\\Temp\\ipykernel_16776\\1009975670.py\u001b[0m in \u001b[0;36m<module>\u001b[1;34m\u001b[0m\n\u001b[0;32m      3\u001b[0m \u001b[0mc\u001b[0m \u001b[1;33m=\u001b[0m\u001b[0mcustomer\u001b[0m\u001b[1;33m(\u001b[0m\u001b[1;34m\"name\"\u001b[0m\u001b[1;33m,\u001b[0m\u001b[1;34m\"gender\"\u001b[0m\u001b[1;33m,\u001b[0m\u001b[1;34m\"address\"\u001b[0m\u001b[1;33m)\u001b[0m\u001b[1;33m\u001b[0m\u001b[1;33m\u001b[0m\u001b[0m\n\u001b[0;32m      4\u001b[0m \u001b[1;33m\u001b[0m\u001b[0m\n\u001b[1;32m----> 5\u001b[1;33m \u001b[0mc\u001b[0m\u001b[1;33m.\u001b[0m\u001b[0medit_profile\u001b[0m\u001b[1;33m(\u001b[0m\u001b[1;34m'jeet'\u001b[0m\u001b[1;33m,\u001b[0m\u001b[1;34m'pune'\u001b[0m\u001b[1;33m,\u001b[0m\u001b[1;36m412201\u001b[0m\u001b[1;33m,\u001b[0m\u001b[1;34m'mumbai'\u001b[0m\u001b[1;33m)\u001b[0m\u001b[1;33m\u001b[0m\u001b[1;33m\u001b[0m\u001b[0m\n\u001b[0m",
      "\u001b[1;32m~\\AppData\\Local\\Temp\\ipykernel_16776\\4009535115.py\u001b[0m in \u001b[0;36medit_profile\u001b[1;34m(self, new_name, new_city, new_pincode, new_state)\u001b[0m\n\u001b[0;32m      7\u001b[0m     \u001b[1;32mdef\u001b[0m \u001b[0medit_profile\u001b[0m\u001b[1;33m(\u001b[0m\u001b[0mself\u001b[0m\u001b[1;33m,\u001b[0m\u001b[0mnew_name\u001b[0m\u001b[1;33m,\u001b[0m\u001b[0mnew_city\u001b[0m\u001b[1;33m,\u001b[0m\u001b[0mnew_pincode\u001b[0m\u001b[1;33m,\u001b[0m\u001b[0mnew_state\u001b[0m\u001b[1;33m)\u001b[0m\u001b[1;33m:\u001b[0m\u001b[1;33m\u001b[0m\u001b[1;33m\u001b[0m\u001b[0m\n\u001b[0;32m      8\u001b[0m         \u001b[0mself\u001b[0m\u001b[1;33m.\u001b[0m\u001b[0mname\u001b[0m \u001b[1;33m=\u001b[0m\u001b[0mnew_name\u001b[0m\u001b[1;33m\u001b[0m\u001b[1;33m\u001b[0m\u001b[0m\n\u001b[1;32m----> 9\u001b[1;33m         \u001b[0mself\u001b[0m\u001b[1;33m.\u001b[0m\u001b[0maddress\u001b[0m\u001b[1;33m.\u001b[0m\u001b[0mchange_adress\u001b[0m\u001b[1;33m(\u001b[0m\u001b[0mnew_name\u001b[0m\u001b[1;33m,\u001b[0m\u001b[0mnew_city\u001b[0m\u001b[1;33m,\u001b[0m\u001b[0mnew_pincode\u001b[0m\u001b[1;33m,\u001b[0m\u001b[0mnew_state\u001b[0m\u001b[1;33m)\u001b[0m\u001b[1;33m\u001b[0m\u001b[1;33m\u001b[0m\u001b[0m\n\u001b[0m\u001b[0;32m     10\u001b[0m \u001b[1;33m\u001b[0m\u001b[0m\n\u001b[0;32m     11\u001b[0m \u001b[1;32mclass\u001b[0m \u001b[0maddress\u001b[0m\u001b[1;33m:\u001b[0m\u001b[1;33m\u001b[0m\u001b[1;33m\u001b[0m\u001b[0m\n",
      "\u001b[1;31mAttributeError\u001b[0m: 'str' object has no attribute 'change_adress'"
     ]
    }
   ],
   "source": [
    "add =address(\"pune\",412201,'maha')\n",
    "\n",
    "c =customer(\"name\",\"gender\",\"address\")\n",
    "\n",
    "c.edit_profile('jeet','pune',412201,'mumbai')"
   ]
  },
  {
   "cell_type": "code",
   "execution_count": 39,
   "id": "e2d8d6dc",
   "metadata": {},
   "outputs": [],
   "source": [
    "c =customer(\"name\",\"gender\",\"address\")"
   ]
  },
  {
   "cell_type": "code",
   "execution_count": 40,
   "id": "3b60c90a",
   "metadata": {},
   "outputs": [
    {
     "ename": "AttributeError",
     "evalue": "'str' object has no attribute 'name'",
     "output_type": "error",
     "traceback": [
      "\u001b[1;31m---------------------------------------------------------------------------\u001b[0m",
      "\u001b[1;31mAttributeError\u001b[0m                            Traceback (most recent call last)",
      "\u001b[1;32m~\\AppData\\Local\\Temp\\ipykernel_16776\\2744499451.py\u001b[0m in \u001b[0;36m<module>\u001b[1;34m\u001b[0m\n\u001b[1;32m----> 1\u001b[1;33m \u001b[0mprint\u001b[0m\u001b[1;33m(\u001b[0m\u001b[0mc\u001b[0m\u001b[1;33m.\u001b[0m\u001b[0maddress\u001b[0m\u001b[1;33m.\u001b[0m\u001b[0mname\u001b[0m\u001b[1;33m)\u001b[0m\u001b[1;33m\u001b[0m\u001b[1;33m\u001b[0m\u001b[0m\n\u001b[0m",
      "\u001b[1;31mAttributeError\u001b[0m: 'str' object has no attribute 'name'"
     ]
    }
   ],
   "source": [
    "print(c.address.)"
   ]
  },
  {
   "cell_type": "code",
   "execution_count": null,
   "id": "1963ed82",
   "metadata": {},
   "outputs": [],
   "source": []
  },
  {
   "cell_type": "markdown",
   "id": "8fc50f66",
   "metadata": {},
   "source": [
    "# Date:-13/02/2023"
   ]
  },
  {
   "cell_type": "markdown",
   "id": "bc80d5c3",
   "metadata": {},
   "source": [
    "# Inheritanace"
   ]
  },
  {
   "cell_type": "code",
   "execution_count": null,
   "id": "ad25d65e",
   "metadata": {},
   "outputs": [],
   "source": [
    "inherotance : boilogical level, social level \n",
    "    helps in code Reusability\n",
    " in the terms of inheritance it will Gives the same information  (Data ) to prent class to chiled class.\n",
    "    \n",
    "    \n",
    "    Eg. udemu Coursec\n",
    "    Two entities:\n",
    "    user:\n",
    "    \n",
    "students (can login, reg,enroll,review)\n",
    "trainer(can login, reg,enroll,review)\n",
    "\n",
    "\n",
    "student class :\n",
    "all data And Functions\n",
    "\n",
    "Trainer Class:\n",
    "     data And Functions\n",
    "        \n",
    "which things are tranfer to parent to chiled class ?\n",
    "\n",
    "parent class\n",
    "\n",
    "Data\n",
    "Method/Function\n",
    "Constructor\n",
    "\n",
    "child class\n",
    "\n",
    "Note: Private Members are not inherited.\n",
    "    "
   ]
  },
  {
   "cell_type": "code",
   "execution_count": 1,
   "id": "0f6560ea",
   "metadata": {},
   "outputs": [],
   "source": [
    "#Chiled class Iinheritance Mthod to the Parent Class\n",
    "\n",
    "class user:\n",
    "    \n",
    "    def login(self):\n",
    "        print(\"login\")\n",
    "    \n",
    "    def register(self):\n",
    "        print(\"register\")    #this is all the parent class\n",
    "        \n",
    "class student(user):\n",
    "    def enroll(self):\n",
    "        print(\"enroll\")\n",
    "        \n",
    "    def renew(self):\n",
    "        print(\"renew\")   #this is all child class\n",
    "        \n",
    "    #in this Exp. the child class take same data from parent class "
   ]
  },
  {
   "cell_type": "code",
   "execution_count": 2,
   "id": "bdc7fe69",
   "metadata": {},
   "outputs": [],
   "source": [
    "s = student()"
   ]
  },
  {
   "cell_type": "code",
   "execution_count": 3,
   "id": "d7a130da",
   "metadata": {},
   "outputs": [
    {
     "name": "stdout",
     "output_type": "stream",
     "text": [
      "register\n"
     ]
    }
   ],
   "source": [
    "s.register()   #register is store in our Parent class but using the inheritance it give some data from the parent class \n",
    "               #hacne we can acces the register which store in the parent class using the object of the chiled class."
   ]
  },
  {
   "cell_type": "code",
   "execution_count": 6,
   "id": "f46ef726",
   "metadata": {},
   "outputs": [],
   "source": [
    "#Chid class inherots the Constructor form the parent class\n",
    "\n",
    "class phone:\n",
    "    def __init__(self,price,brand,camera):\n",
    "        print(\"I am in the Constructor\")\n",
    "        self.price =price\n",
    "        self.brand =brand\n",
    "        self.camera = camera\n",
    "            \n",
    "class Sphone(phone):\n",
    "    pass   #nothing in the Chiled Class Sphone hance we use pass (it will take the some attributes which is soore in the parent class(constructor)."
   ]
  },
  {
   "cell_type": "code",
   "execution_count": 12,
   "id": "26f3cb68",
   "metadata": {},
   "outputs": [
    {
     "name": "stdout",
     "output_type": "stream",
     "text": [
      "I am in the Constructor\n"
     ]
    },
    {
     "data": {
      "text/plain": [
       "'MI'"
      ]
     },
     "execution_count": 12,
     "metadata": {},
     "output_type": "execute_result"
    }
   ],
   "source": [
    "p =Sphone(2600,'MI',64)  #we provide all the needed Atribute to Chiled class\n",
    "p.price\n",
    "p.camera\n",
    "p.brand   #we can assces all the atributes have in parent class using the object of child class"
   ]
  },
  {
   "cell_type": "code",
   "execution_count": 9,
   "id": "68ec43cd",
   "metadata": {},
   "outputs": [
    {
     "data": {
      "text/plain": [
       "2600"
      ]
     },
     "execution_count": 9,
     "metadata": {},
     "output_type": "execute_result"
    }
   ],
   "source": [
    "p.price"
   ]
  },
  {
   "cell_type": "code",
   "execution_count": 10,
   "id": "eda6c2ea",
   "metadata": {},
   "outputs": [
    {
     "data": {
      "text/plain": [
       "64"
      ]
     },
     "execution_count": 10,
     "metadata": {},
     "output_type": "execute_result"
    }
   ],
   "source": [
    "p.camera"
   ]
  },
  {
   "cell_type": "code",
   "execution_count": 11,
   "id": "eed2ca7f",
   "metadata": {},
   "outputs": [
    {
     "data": {
      "text/plain": [
       "'MI'"
      ]
     },
     "execution_count": 11,
     "metadata": {},
     "output_type": "execute_result"
    }
   ],
   "source": [
    "p.brand"
   ]
  },
  {
   "cell_type": "code",
   "execution_count": 15,
   "id": "ad12015c",
   "metadata": {},
   "outputs": [],
   "source": [
    "#private members cannot be inheroted (onlu public attribuites of a parent\n",
    "#class are passed to child)\n",
    "class phone:\n",
    "    def __init__(self,price,brand,camera):\n",
    "        print(\"I in the Constructor\")\n",
    "        self.price = price\n",
    "        self.camera = camera\n",
    "        self.__brand = brand                         #__brand is now priavte\n",
    "\n",
    "class Sphone(phone):\n",
    "    pass"
   ]
  },
  {
   "cell_type": "code",
   "execution_count": 17,
   "id": "7eccf666",
   "metadata": {},
   "outputs": [
    {
     "name": "stdout",
     "output_type": "stream",
     "text": [
      "I in the Constructor\n"
     ]
    }
   ],
   "source": [
    "p =Sphone(2600,'MI',64)\n"
   ]
  },
  {
   "cell_type": "code",
   "execution_count": 18,
   "id": "71834742",
   "metadata": {},
   "outputs": [
    {
     "ename": "AttributeError",
     "evalue": "'Sphone' object has no attribute 'brand'",
     "output_type": "error",
     "traceback": [
      "\u001b[1;31m---------------------------------------------------------------------------\u001b[0m",
      "\u001b[1;31mAttributeError\u001b[0m                            Traceback (most recent call last)",
      "\u001b[1;32m~\\AppData\\Local\\Temp\\ipykernel_19744\\2101333745.py\u001b[0m in \u001b[0;36m<module>\u001b[1;34m\u001b[0m\n\u001b[1;32m----> 1\u001b[1;33m \u001b[0mp\u001b[0m\u001b[1;33m.\u001b[0m\u001b[0mbrand\u001b[0m\u001b[1;33m\u001b[0m\u001b[1;33m\u001b[0m\u001b[0m\n\u001b[0m",
      "\u001b[1;31mAttributeError\u001b[0m: 'Sphone' object has no attribute 'brand'"
     ]
    }
   ],
   "source": [
    "p.brand  #we cannot acces the private members of parent class"
   ]
  },
  {
   "cell_type": "code",
   "execution_count": null,
   "id": "436ec657",
   "metadata": {},
   "outputs": [],
   "source": []
  },
  {
   "cell_type": "code",
   "execution_count": 19,
   "id": "5f137d19",
   "metadata": {},
   "outputs": [],
   "source": [
    "class phone:\n",
    "    \n",
    "    \n",
    "    def __init__(self,price,brand,camera):\n",
    "        print(\"I in the Constructor\")\n",
    "        self.price = price\n",
    "        self.camera = camera\n",
    "        self.__brand = brand       #__brand is now priavte\n",
    "        \n",
    "    def get__brand(self):\n",
    "        return self.__brand\n",
    "\n",
    "class Sphone(phone):\n",
    "    pass\n"
   ]
  },
  {
   "cell_type": "code",
   "execution_count": 24,
   "id": "02c3c843",
   "metadata": {},
   "outputs": [
    {
     "name": "stdout",
     "output_type": "stream",
     "text": [
      "I in the Constructor\n"
     ]
    }
   ],
   "source": [
    "p =Sphone(2600,'MI',64)"
   ]
  },
  {
   "cell_type": "code",
   "execution_count": 26,
   "id": "1b8c7c91",
   "metadata": {},
   "outputs": [
    {
     "data": {
      "text/plain": [
       "'MI'"
      ]
     },
     "execution_count": 26,
     "metadata": {},
     "output_type": "execute_result"
    }
   ],
   "source": [
    "p.get__brand()    #using get method we can acces the Private Atribute of parent class"
   ]
  },
  {
   "cell_type": "code",
   "execution_count": 27,
   "id": "175f210b",
   "metadata": {},
   "outputs": [],
   "source": [
    "# Two classes and 1 Constructor, same method in 2 Classes\n",
    "\n",
    "class phone:\n",
    "    def __init__(self,price,brand,camera):\n",
    "        print(\"I in the Constructor\")\n",
    "        self.price = price\n",
    "        self.camera = camera\n",
    "        self.__brand = brand       \n",
    "        \n",
    "    def buy(self):\n",
    "        print(\"Buying a phone\")\n",
    "\n",
    "class Sphone(phone):\n",
    "    def buy(self):\n",
    "        print(\"buying a smartphone\")\n"
   ]
  },
  {
   "cell_type": "code",
   "execution_count": 28,
   "id": "d465c685",
   "metadata": {},
   "outputs": [
    {
     "name": "stdout",
     "output_type": "stream",
     "text": [
      "I in the Constructor\n"
     ]
    }
   ],
   "source": [
    "p =Sphone(45000,\"app\",128)"
   ]
  },
  {
   "cell_type": "code",
   "execution_count": 29,
   "id": "63e468f7",
   "metadata": {},
   "outputs": [
    {
     "name": "stdout",
     "output_type": "stream",
     "text": [
      "buying a smartphone\n"
     ]
    }
   ],
   "source": [
    "p.buy()   #we try to acces child class we crete child object"
   ]
  },
  {
   "cell_type": "code",
   "execution_count": 31,
   "id": "d1f1db93",
   "metadata": {},
   "outputs": [
    {
     "name": "stdout",
     "output_type": "stream",
     "text": [
      "I in the Constructor\n"
     ]
    }
   ],
   "source": [
    "a =phone(4556,'vivo',456)"
   ]
  },
  {
   "cell_type": "code",
   "execution_count": 33,
   "id": "f768e127",
   "metadata": {},
   "outputs": [
    {
     "name": "stdout",
     "output_type": "stream",
     "text": [
      "Buying a phone\n"
     ]
    }
   ],
   "source": [
    "a.buy()  #we try to acces parent class we crete parent object"
   ]
  },
  {
   "cell_type": "code",
   "execution_count": 36,
   "id": "08af6c09",
   "metadata": {},
   "outputs": [],
   "source": [
    "class Parent:\n",
    "    def __init__(self,num):\n",
    "        self.__num == num\n",
    "    def get_num(slef):\n",
    "        return self.__num\n",
    "    \n",
    "class Child(Parent):                             #this constructor is called first\n",
    "    def __init__(self,val,num):\n",
    "        self.__val =val\n",
    "        \n",
    "    def get_val(self):\n",
    "        return self.__val"
   ]
  },
  {
   "cell_type": "code",
   "execution_count": 41,
   "id": "0424063e",
   "metadata": {},
   "outputs": [],
   "source": [
    "s = Child(100,10)"
   ]
  },
  {
   "cell_type": "code",
   "execution_count": 43,
   "id": "3cf53537",
   "metadata": {},
   "outputs": [
    {
     "ename": "AttributeError",
     "evalue": "'Child' object has no attribute 'get__num'",
     "output_type": "error",
     "traceback": [
      "\u001b[1;31m---------------------------------------------------------------------------\u001b[0m",
      "\u001b[1;31mAttributeError\u001b[0m                            Traceback (most recent call last)",
      "\u001b[1;32m~\\AppData\\Local\\Temp\\ipykernel_19744\\1041206232.py\u001b[0m in \u001b[0;36m<module>\u001b[1;34m\u001b[0m\n\u001b[1;32m----> 1\u001b[1;33m \u001b[0ms\u001b[0m\u001b[1;33m.\u001b[0m\u001b[0mget__num\u001b[0m\u001b[1;33m(\u001b[0m\u001b[1;33m)\u001b[0m   \u001b[1;31m#is will show the Error beacause the it doen't know what is the num bracause when we have two constructor the our crete constructor is first called thats why it will show the Error\u001b[0m\u001b[1;33m\u001b[0m\u001b[1;33m\u001b[0m\u001b[0m\n\u001b[0m",
      "\u001b[1;31mAttributeError\u001b[0m: 'Child' object has no attribute 'get__num'"
     ]
    }
   ],
   "source": [
    "s.get__num()   #is will show the Error beacause the it doen't know what is the num bracause when we have two constructor the our crete constructor is first called thats why it will show the Error"
   ]
  },
  {
   "cell_type": "code",
   "execution_count": 45,
   "id": "7e15f280",
   "metadata": {},
   "outputs": [],
   "source": [
    "# #SUPER : can acces the parent class method \n",
    "          #The Python super() function returns objects represented in the parent’s class and is very useful in  multiple and multilevel inheritances to find which class the child class is extending first.\n",
    "# using super we can acces only the methods and functions of parent class\n",
    "#it will work only inside the class\n",
    "\n",
    "\n",
    "class Phone:\n",
    "    def __init__(self,price,brand,camera):\n",
    "        print(\"inside constructor\")\n",
    "        self.price = price\n",
    "        self.camera =camera\n",
    "        self.brand = brand\n",
    "              \n",
    "    def buy(self):\n",
    "        print(\"buying a sphone\")\n",
    "              \n",
    "class Sphone(Phone):\n",
    "    def buy(self):\n",
    "        print(\"buying a sphone\")\n",
    "        #super().buy()\n",
    "        print(super().brand)"
   ]
  },
  {
   "cell_type": "code",
   "execution_count": 47,
   "id": "bddca3a4",
   "metadata": {},
   "outputs": [
    {
     "name": "stdout",
     "output_type": "stream",
     "text": [
      "inside constructor\n"
     ]
    }
   ],
   "source": [
    "p =Sphone(10000,\"MI\",456)      "
   ]
  },
  {
   "cell_type": "code",
   "execution_count": 48,
   "id": "2f9d8581",
   "metadata": {},
   "outputs": [
    {
     "ename": "AttributeError",
     "evalue": "'Child' object has no attribute 'buy'",
     "output_type": "error",
     "traceback": [
      "\u001b[1;31m---------------------------------------------------------------------------\u001b[0m",
      "\u001b[1;31mAttributeError\u001b[0m                            Traceback (most recent call last)",
      "\u001b[1;32m~\\AppData\\Local\\Temp\\ipykernel_19744\\3755078355.py\u001b[0m in \u001b[0;36m<module>\u001b[1;34m\u001b[0m\n\u001b[1;32m----> 1\u001b[1;33m \u001b[0ms\u001b[0m\u001b[1;33m.\u001b[0m\u001b[0mbuy\u001b[0m\u001b[1;33m(\u001b[0m\u001b[1;33m)\u001b[0m\u001b[1;33m\u001b[0m\u001b[1;33m\u001b[0m\u001b[0m\n\u001b[0m",
      "\u001b[1;31mAttributeError\u001b[0m: 'Child' object has no attribute 'buy'"
     ]
    }
   ],
   "source": [
    "s.buy()\n",
    "s.super().buy()   #\n",
    "#super() #can acees parent method and constructor "
   ]
  },
  {
   "cell_type": "code",
   "execution_count": 62,
   "id": "abf3fe5f",
   "metadata": {},
   "outputs": [],
   "source": [
    "class Parent:\n",
    "    \n",
    "    def __init__(self,num):\n",
    "        self.__num =num\n",
    "        \n",
    "    def get_num(self):\n",
    "        return self.__num\n",
    "\n",
    "class Child(Parent):\n",
    "    \n",
    "    def __init__(self,num,val):\n",
    "        super().__init__(num)\n",
    "        self.__val =val\n",
    "        \n",
    "    def get_val(self):\n",
    "        return self.val\n",
    "    \n",
    "    "
   ]
  },
  {
   "cell_type": "code",
   "execution_count": 65,
   "id": "9f590598",
   "metadata": {},
   "outputs": [
    {
     "ename": "TypeError",
     "evalue": "__init__() takes 1 positional argument but 3 were given",
     "output_type": "error",
     "traceback": [
      "\u001b[1;31m---------------------------------------------------------------------------\u001b[0m",
      "\u001b[1;31mTypeError\u001b[0m                                 Traceback (most recent call last)",
      "\u001b[1;32m~\\AppData\\Local\\Temp\\ipykernel_19744\\1088302908.py\u001b[0m in \u001b[0;36m<module>\u001b[1;34m\u001b[0m\n\u001b[1;32m----> 1\u001b[1;33m \u001b[0mson\u001b[0m \u001b[1;33m=\u001b[0m\u001b[0mChild\u001b[0m\u001b[1;33m(\u001b[0m\u001b[1;36m100\u001b[0m\u001b[1;33m,\u001b[0m\u001b[1;36m200\u001b[0m\u001b[1;33m)\u001b[0m\u001b[1;33m\u001b[0m\u001b[1;33m\u001b[0m\u001b[0m\n\u001b[0m\u001b[0;32m      2\u001b[0m \u001b[0mson\u001b[0m\u001b[1;33m=\u001b[0m \u001b[0mget_num\u001b[0m\u001b[1;33m(\u001b[0m\u001b[1;33m)\u001b[0m\u001b[1;33m\u001b[0m\u001b[1;33m\u001b[0m\u001b[0m\n",
      "\u001b[1;31mTypeError\u001b[0m: __init__() takes 1 positional argument but 3 were given"
     ]
    }
   ],
   "source": [
    "son =Child(100,200)\n",
    "son= get_num()"
   ]
  },
  {
   "cell_type": "code",
   "execution_count": 64,
   "id": "b6f24732",
   "metadata": {},
   "outputs": [],
   "source": [
    "class Parent:\n",
    "    def __init__(self):\n",
    "        self.__num =100\n",
    "        \n",
    "    def show(self):\n",
    "        print(\"Parent:\",self.__num)\n",
    "    \n",
    "class Child(Parent):\n",
    "    def __init__(self):\n",
    "        super().__init__()\n",
    "        \n",
    "        self.__var =10 \n",
    "        \n",
    "    def show(self):\n",
    "        print(\"Child:\" , self.__var)"
   ]
  },
  {
   "cell_type": "code",
   "execution_count": 61,
   "id": "504e0643",
   "metadata": {},
   "outputs": [
    {
     "name": "stdout",
     "output_type": "stream",
     "text": [
      "Child: 10\n"
     ]
    }
   ],
   "source": [
    "obj =Child()\n",
    "obj.show()"
   ]
  },
  {
   "cell_type": "code",
   "execution_count": null,
   "id": "eb8ea1a5",
   "metadata": {},
   "outputs": [],
   "source": [
    "Type Of INHERITANCE\n",
    "1-Single Level  : \n",
    "    1 perent class\n",
    "    1 chiled class\n",
    "    \n",
    "2- Multi_level :\n",
    "    Grand Father \n",
    "    Parent Class\n",
    "    Child CLass\n",
    "    \n",
    "3-Hierarichical:\n",
    "         Parent\n",
    "    child1     child2\n",
    "    \n",
    "4-Multipule Inheritance:_\n",
    "    mom             dad\n",
    "          child"
   ]
  },
  {
   "cell_type": "code",
   "execution_count": 79,
   "id": "1297c552",
   "metadata": {},
   "outputs": [],
   "source": [
    "#MULTI-LEVEL Inheritance:\n",
    "\n",
    "\n",
    "class Product:\n",
    "    \n",
    "    def review(self):\n",
    "        print(\"product review\")\n",
    "        \n",
    "        \n",
    "        \n",
    "        \n",
    "class Phone(Product):\n",
    "    def __init__(self,price,brand):\n",
    "        print(\"inside phone constructor\")\n",
    "        self.__price = price\n",
    "        self.brand = brand\n",
    "    \n",
    "    def buy(self):\n",
    "        print(\"buying a phone\")\n",
    "        \n",
    "class Sphone(Phone):\n",
    "    pass"
   ]
  },
  {
   "cell_type": "code",
   "execution_count": 83,
   "id": "2f656d41",
   "metadata": {},
   "outputs": [
    {
     "name": "stdout",
     "output_type": "stream",
     "text": [
      "inside phone constructor\n",
      "inside phone constructor\n"
     ]
    }
   ],
   "source": [
    "s = Sphone(200000,\"ip\")\n",
    "p = Phone(344555, 'pixel')\n",
    "pr = Product()"
   ]
  },
  {
   "cell_type": "code",
   "execution_count": null,
   "id": "2caf2feb",
   "metadata": {},
   "outputs": [],
   "source": []
  },
  {
   "cell_type": "code",
   "execution_count": null,
   "id": "a5125ebd",
   "metadata": {},
   "outputs": [],
   "source": []
  },
  {
   "cell_type": "code",
   "execution_count": 86,
   "id": "9a5e0daa",
   "metadata": {},
   "outputs": [],
   "source": [
    "#  Hirarichical inheritance:\n",
    "class Phone:\n",
    "    def __init__(self,price,brand):\n",
    "        print(\"inside the constructor\")\n",
    "        self.__price = price\n",
    "        self.brand = brand\n",
    "        \n",
    "    def buy(self):\n",
    "        print(\"buying a phone\")\n",
    "        \n",
    "class Sphone(Phone):\n",
    "        pass\n",
    "    \n",
    "class Fphone(Phone):\n",
    "    pass"
   ]
  },
  {
   "cell_type": "code",
   "execution_count": 87,
   "id": "6d0301bd",
   "metadata": {},
   "outputs": [
    {
     "name": "stdout",
     "output_type": "stream",
     "text": [
      "inside the constructor\n",
      "inside the constructor\n"
     ]
    }
   ],
   "source": [
    "s = Sphone(1000,\"=vinay\")\n",
    "p = Fphone(2000,\"pix\")"
   ]
  },
  {
   "cell_type": "code",
   "execution_count": 88,
   "id": "de5857bb",
   "metadata": {},
   "outputs": [],
   "source": [
    "#Multipule inheritance:-\n",
    "class Phone:\n",
    "    def __init__(self,price,brand):\n",
    "        print(\"inside the constructor\")\n",
    "        self.__price = price\n",
    "        self.brand =brand\n",
    "        \n",
    "    def buy(self):\n",
    "        print(\"buying a phone\")\n",
    "class Product:\n",
    "    def review(self):\n",
    "        print(\"Coustomer review\")\n",
    "        \n",
    "class Sphone(Product,Phone):\n",
    "    pass"
   ]
  },
  {
   "cell_type": "code",
   "execution_count": 89,
   "id": "00c6ab0a",
   "metadata": {},
   "outputs": [
    {
     "name": "stdout",
     "output_type": "stream",
     "text": [
      "inside the constructor\n"
     ]
    }
   ],
   "source": [
    "s = Sphone(1000,\"Mi\")"
   ]
  },
  {
   "cell_type": "code",
   "execution_count": 93,
   "id": "a8a55077",
   "metadata": {},
   "outputs": [
    {
     "name": "stdout",
     "output_type": "stream",
     "text": [
      "buying a phone\n",
      "Coustomer review\n"
     ]
    }
   ],
   "source": [
    "s.buy()\n",
    "s.review()"
   ]
  },
  {
   "cell_type": "raw",
   "id": "37a8ab95",
   "metadata": {},
   "source": [
    "# POlYMORPHISUM : -\n",
    "   In the programming the , Poluymorphisum means the same Function name (but diffrent signature) being used for diffrent types.\n",
    "    \n",
    "we can achive ploymorphisum:-\n",
    "    \n",
    "Method overriding:-\n",
    "    Both has same method( class method gets called)\n",
    "    \n",
    "Method overloading :-\n",
    "    In single class,have 2 methods, within same name (pyhton does not support)\n",
    "\n",
    "operator overloading:-\n",
    "    "
   ]
  },
  {
   "cell_type": "code",
   "execution_count": 100,
   "id": "6fbd5a7f",
   "metadata": {},
   "outputs": [],
   "source": [
    "class shape:\n",
    "    def area(self,redius):\n",
    "        return 3.14 * redius * redius\n",
    "    def area(self,l,b):\n",
    "        return l *b"
   ]
  },
  {
   "cell_type": "code",
   "execution_count": 101,
   "id": "c8df9fc8",
   "metadata": {},
   "outputs": [],
   "source": [
    "a = shape()"
   ]
  },
  {
   "cell_type": "code",
   "execution_count": 108,
   "id": "907e9a8b",
   "metadata": {},
   "outputs": [
    {
     "data": {
      "text/plain": [
       "20"
      ]
     },
     "execution_count": 108,
     "metadata": {},
     "output_type": "execute_result"
    }
   ],
   "source": [
    "#print(a.area(3))\n",
    "# print(a.area(4,6))\n",
    "a.area(4,5)"
   ]
  },
  {
   "cell_type": "code",
   "execution_count": 111,
   "id": "763db158",
   "metadata": {},
   "outputs": [],
   "source": [
    "#Method Overloading in python \n",
    "\n",
    "class Shape:\n",
    "    def  area(self,a,b=0):\n",
    "        if b==0:\n",
    "            return 3.14*a*a\n",
    "        else:\n",
    "            return a*b\n"
   ]
  },
  {
   "cell_type": "code",
   "execution_count": null,
   "id": "99f2efa4",
   "metadata": {},
   "outputs": [],
   "source": []
  },
  {
   "cell_type": "code",
   "execution_count": null,
   "id": "76557cf0",
   "metadata": {},
   "outputs": [],
   "source": [
    "OPRATING OVERLOADING:"
   ]
  },
  {
   "cell_type": "code",
   "execution_count": 110,
   "id": "ccb3420e",
   "metadata": {},
   "outputs": [
    {
     "name": "stdout",
     "output_type": "stream",
     "text": [
      "helloworld\n",
      "6\n",
      "[1, 3, 3, 1, 7]\n"
     ]
    }
   ],
   "source": [
    "print(\"hello\" +\"world\")\n",
    "print(2+4)\n",
    "print([1,3,3]+[1,7])"
   ]
  },
  {
   "cell_type": "code",
   "execution_count": null,
   "id": "e267054e",
   "metadata": {},
   "outputs": [],
   "source": [
    "Abstraction\n",
    "Home Work :-\n",
    "    create a class for abstraction class"
   ]
  },
  {
   "cell_type": "code",
   "execution_count": null,
   "id": "c0731f87",
   "metadata": {},
   "outputs": [],
   "source": [
    "PCA:-\n",
    "    \n",
    "1-view\n",
    "2-Orthagonal Properties\n",
    "\n",
    "  Formula :- Covariance(x,y)=1/n Σ"
   ]
  }
 ],
 "metadata": {
  "kernelspec": {
   "display_name": "Python 3 (ipykernel)",
   "language": "python",
   "name": "python3"
  },
  "language_info": {
   "codemirror_mode": {
    "name": "ipython",
    "version": 3
   },
   "file_extension": ".py",
   "mimetype": "text/x-python",
   "name": "python",
   "nbconvert_exporter": "python",
   "pygments_lexer": "ipython3",
   "version": "3.9.13"
  }
 },
 "nbformat": 4,
 "nbformat_minor": 5
}
