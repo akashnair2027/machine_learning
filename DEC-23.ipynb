{
 "cells": [
  {
   "cell_type": "markdown",
   "id": "ea68f7fd",
   "metadata": {},
   "source": [
    "# python 1-23dec\n"
   ]
  },
  {
   "cell_type": "markdown",
   "id": "7fb8745d",
   "metadata": {},
   "source": [
    "# String"
   ]
  },
  {
   "cell_type": "code",
   "execution_count": 1,
   "id": "cfc11ddc",
   "metadata": {},
   "outputs": [],
   "source": [
    "x = 9"
   ]
  },
  {
   "cell_type": "code",
   "execution_count": 2,
   "id": "f9a70908",
   "metadata": {},
   "outputs": [
    {
     "data": {
      "text/plain": [
       "9"
      ]
     },
     "execution_count": 2,
     "metadata": {},
     "output_type": "execute_result"
    }
   ],
   "source": [
    "x"
   ]
  },
  {
   "cell_type": "code",
   "execution_count": 3,
   "id": "d90e5cac",
   "metadata": {},
   "outputs": [],
   "source": [
    "a,b,c =1,4,7"
   ]
  },
  {
   "cell_type": "code",
   "execution_count": 4,
   "id": "850a268d",
   "metadata": {},
   "outputs": [
    {
     "data": {
      "text/plain": [
       "1"
      ]
     },
     "execution_count": 4,
     "metadata": {},
     "output_type": "execute_result"
    }
   ],
   "source": [
    "a"
   ]
  },
  {
   "cell_type": "code",
   "execution_count": 5,
   "id": "2be62a14",
   "metadata": {},
   "outputs": [
    {
     "data": {
      "text/plain": [
       "4"
      ]
     },
     "execution_count": 5,
     "metadata": {},
     "output_type": "execute_result"
    }
   ],
   "source": [
    "b"
   ]
  },
  {
   "cell_type": "code",
   "execution_count": 6,
   "id": "6ada457d",
   "metadata": {},
   "outputs": [
    {
     "data": {
      "text/plain": [
       "7"
      ]
     },
     "execution_count": 6,
     "metadata": {},
     "output_type": "execute_result"
    }
   ],
   "source": [
    "c"
   ]
  },
  {
   "cell_type": "code",
   "execution_count": 7,
   "id": "4d28e772",
   "metadata": {},
   "outputs": [],
   "source": [
    "name = 'Akash'"
   ]
  },
  {
   "cell_type": "code",
   "execution_count": 11,
   "id": "d3a61cf7",
   "metadata": {},
   "outputs": [
    {
     "name": "stdout",
     "output_type": "stream",
     "text": [
      "Akash\n"
     ]
    }
   ],
   "source": [
    "print(name)"
   ]
  },
  {
   "cell_type": "code",
   "execution_count": 10,
   "id": "3b8221c7",
   "metadata": {},
   "outputs": [],
   "source": [
    "string='set of text' #defination of string"
   ]
  },
  {
   "cell_type": "code",
   "execution_count": 19,
   "id": "cf53a052",
   "metadata": {},
   "outputs": [
    {
     "data": {
      "text/plain": [
       "'data science'"
      ]
     },
     "execution_count": 19,
     "metadata": {},
     "output_type": "execute_result"
    }
   ],
   "source": [
    "k='data ' + 'science'\n",
    "k\n",
    "#concatenation\n",
    "    "
   ]
  },
  {
   "cell_type": "code",
   "execution_count": 20,
   "id": "b33f0545",
   "metadata": {},
   "outputs": [],
   "source": [
    "ds = 'its a beautiful world'"
   ]
  },
  {
   "cell_type": "code",
   "execution_count": 22,
   "id": "7b698baa",
   "metadata": {},
   "outputs": [
    {
     "data": {
      "text/plain": [
       "'ITS A BEAUTIFUL WORLD'"
      ]
     },
     "execution_count": 22,
     "metadata": {},
     "output_type": "execute_result"
    }
   ],
   "source": [
    "ds.upper()"
   ]
  },
  {
   "cell_type": "code",
   "execution_count": 23,
   "id": "43df17b6",
   "metadata": {},
   "outputs": [],
   "source": [
    "ad = 'DONT LOOK AT ME'"
   ]
  },
  {
   "cell_type": "code",
   "execution_count": 24,
   "id": "ceadd6b5",
   "metadata": {},
   "outputs": [
    {
     "data": {
      "text/plain": [
       "'dont look at me'"
      ]
     },
     "execution_count": 24,
     "metadata": {},
     "output_type": "execute_result"
    }
   ],
   "source": [
    "ad.lower()"
   ]
  },
  {
   "cell_type": "code",
   "execution_count": 25,
   "id": "c57899e4",
   "metadata": {},
   "outputs": [
    {
     "data": {
      "text/plain": [
       "'Dont Look At Me'"
      ]
     },
     "execution_count": 25,
     "metadata": {},
     "output_type": "execute_result"
    }
   ],
   "source": [
    "ad.title()"
   ]
  },
  {
   "cell_type": "code",
   "execution_count": 26,
   "id": "5ed02a93",
   "metadata": {},
   "outputs": [
    {
     "name": "stdout",
     "output_type": "stream",
     "text": [
      "dont look at me\n",
      "Dont look at me\n",
      "Dont Look At Me\n"
     ]
    }
   ],
   "source": [
    "print(ad.lower())\n",
    "print(ad.capitalize())\n",
    "print(ad.title())\n"
   ]
  },
  {
   "cell_type": "code",
   "execution_count": 28,
   "id": "642caeba",
   "metadata": {},
   "outputs": [
    {
     "name": "stdout",
     "output_type": "stream",
     "text": [
      "today is good.\n",
      "tomorrow \twill be better\n"
     ]
    }
   ],
   "source": [
    "s = 'today is good.\\ntomorrow \\twill be better'\n",
    "print(s)"
   ]
  },
  {
   "cell_type": "code",
   "execution_count": 30,
   "id": "718c2f98",
   "metadata": {},
   "outputs": [
    {
     "data": {
      "text/plain": [
       "'Akash'"
      ]
     },
     "execution_count": 30,
     "metadata": {},
     "output_type": "execute_result"
    }
   ],
   "source": [
    "n = 'akash'\n",
    "n = 'Akash'\n",
    "n"
   ]
  },
  {
   "cell_type": "code",
   "execution_count": 31,
   "id": "ba984bab",
   "metadata": {},
   "outputs": [
    {
     "name": "stdout",
     "output_type": "stream",
     "text": [
      "<class 'str'>\n",
      "<class 'int'>\n",
      "<class 'float'>\n",
      "<class 'bool'>\n"
     ]
    }
   ],
   "source": [
    "a = '''Akash '''\n",
    "b = 345\n",
    "c =3.14\n",
    "d =True\n",
    "print(type(a))\n",
    "print(type(b))\n",
    "print(type(c))\n",
    "print(type(d))"
   ]
  },
  {
   "cell_type": "code",
   "execution_count": 33,
   "id": "6fe4ef7b",
   "metadata": {},
   "outputs": [
    {
     "data": {
      "text/plain": [
       "15"
      ]
     },
     "execution_count": 33,
     "metadata": {},
     "output_type": "execute_result"
    }
   ],
   "source": [
    "len(ad)"
   ]
  },
  {
   "cell_type": "code",
   "execution_count": 34,
   "id": "96e9f34e",
   "metadata": {},
   "outputs": [
    {
     "data": {
      "text/plain": [
       "5"
      ]
     },
     "execution_count": 34,
     "metadata": {},
     "output_type": "execute_result"
    }
   ],
   "source": [
    "len(name)"
   ]
  },
  {
   "cell_type": "code",
   "execution_count": 36,
   "id": "747ed586",
   "metadata": {},
   "outputs": [
    {
     "data": {
      "text/plain": [
       "12"
      ]
     },
     "execution_count": 36,
     "metadata": {},
     "output_type": "execute_result"
    }
   ],
   "source": [
    "a =' its december'\n",
    "a.find('r')"
   ]
  },
  {
   "cell_type": "code",
   "execution_count": 37,
   "id": "f39a3a93",
   "metadata": {},
   "outputs": [
    {
     "name": "stdout",
     "output_type": "stream",
     "text": [
      " Happy december\n"
     ]
    }
   ],
   "source": [
    "print(a.replace('its','Happy'))"
   ]
  },
  {
   "cell_type": "code",
   "execution_count": 38,
   "id": "6c5a342c",
   "metadata": {},
   "outputs": [
    {
     "ename": "NameError",
     "evalue": "name 'z' is not defined",
     "output_type": "error",
     "traceback": [
      "\u001b[1;31m---------------------------------------------------------------------------\u001b[0m",
      "\u001b[1;31mNameError\u001b[0m                                 Traceback (most recent call last)",
      "\u001b[1;32m~\\AppData\\Local\\Temp\\ipykernel_17640\\3365212906.py\u001b[0m in \u001b[0;36m<module>\u001b[1;34m\u001b[0m\n\u001b[1;32m----> 1\u001b[1;33m \u001b[0ma\u001b[0m\u001b[1;33m[\u001b[0m\u001b[1;36m2\u001b[0m\u001b[1;33m]\u001b[0m\u001b[1;33m=\u001b[0m\u001b[0mz\u001b[0m\u001b[1;33m\u001b[0m\u001b[1;33m\u001b[0m\u001b[0m\n\u001b[0m\u001b[0;32m      2\u001b[0m \u001b[0mprint\u001b[0m\u001b[1;33m(\u001b[0m\u001b[0ma\u001b[0m\u001b[1;33m)\u001b[0m\u001b[1;33m\u001b[0m\u001b[1;33m\u001b[0m\u001b[0m\n",
      "\u001b[1;31mNameError\u001b[0m: name 'z' is not defined"
     ]
    }
   ],
   "source": [
    "a[2]=z # STRING IS NOT MUTABLE\n",
    "print(a)"
   ]
  },
  {
   "cell_type": "code",
   "execution_count": 44,
   "id": "db68250e",
   "metadata": {},
   "outputs": [
    {
     "name": "stdout",
     "output_type": "stream",
     "text": [
      "The value of 7+5 is : 12\n",
      "The value of 7-5 is : 2\n",
      "The value of 7*5 is : 35\n",
      "The value of 7/5 is : 1.4\n",
      "1.4\n",
      "2\n"
     ]
    }
   ],
   "source": [
    "a= 7\n",
    "b = 5\n",
    "print('The value of 7+5 is :',7+5)\n",
    "print(\"The value of 7-5 is :\",7-5)\n",
    "print(\"The value of 7*5 is :\",7*5)\n",
    "print(\"The value of 7/5 is :\",7/5)\n",
    "c= a/b\n",
    "print(c) # its outpit is the remainder\n",
    "c = a%b\n",
    "print(c) # its output is the questiont"
   ]
  },
  {
   "cell_type": "markdown",
   "id": "0cd146d1",
   "metadata": {},
   "source": [
    "z = 2"
   ]
  },
  {
   "cell_type": "code",
   "execution_count": 45,
   "id": "a59274f3",
   "metadata": {},
   "outputs": [
    {
     "data": {
      "text/plain": [
       "True"
      ]
     },
     "execution_count": 45,
     "metadata": {},
     "output_type": "execute_result"
    }
   ],
   "source": [
    "\n",
    "s = 34\n",
    "s==34"
   ]
  },
  {
   "cell_type": "code",
   "execution_count": 46,
   "id": "54857fb5",
   "metadata": {},
   "outputs": [
    {
     "name": "stdout",
     "output_type": "stream",
     "text": [
      "False\n",
      "True\n",
      "False\n",
      "True\n",
      "False\n",
      "True\n"
     ]
    }
   ],
   "source": [
    "# comparison operators\n",
    "q = (14<=7)\n",
    "print(q)\n",
    "q = (14>=7)\n",
    "print(q)\n",
    "q = (14<7)\n",
    "print(q)\n",
    "q = (14>7)\n",
    "print(q)\n",
    "q = (14==7)\n",
    "print(q)\n",
    "q = (14!=7)\n",
    "print(q)"
   ]
  },
  {
   "cell_type": "code",
   "execution_count": 47,
   "id": "e0fce7a0",
   "metadata": {},
   "outputs": [
    {
     "name": "stdout",
     "output_type": "stream",
     "text": [
      "the value of bool1 and bool2 is : False\n",
      " the value of bool1 or bool2 is : True\n",
      " the vale of not bool2 is : True\n"
     ]
    }
   ],
   "source": [
    "bool1 = True\n",
    "bool2 = False\n",
    "print(\"the value of bool1 and bool2 is :\",(bool1 and bool2))\n",
    "print(\" the value of bool1 or bool2 is :\",(bool1 or bool2))\n",
    "print (\" the vale of not bool2 is :\",(not bool2))"
   ]
  },
  {
   "cell_type": "code",
   "execution_count": 50,
   "id": "cc9e0e92",
   "metadata": {},
   "outputs": [
    {
     "name": "stdout",
     "output_type": "stream",
     "text": [
      "2\n",
      "0\n"
     ]
    }
   ],
   "source": [
    "a = 4\n",
    "b = 2\n",
    "print(a and b)\n",
    "print(a & b)\n",
    "#and is performed on the single operator \n",
    "# & converts into the binary format "
   ]
  },
  {
   "cell_type": "code",
   "execution_count": 58,
   "id": "60960fc2",
   "metadata": {},
   "outputs": [
    {
     "name": "stdout",
     "output_type": "stream",
     "text": [
      "2\n",
      "0\n",
      "4\n"
     ]
    }
   ],
   "source": [
    "f = 4\n",
    "g = 2\n",
    "print(f and g)\n",
    "print(f & g)\n",
    "print(f or g)"
   ]
  },
  {
   "cell_type": "code",
   "execution_count": 60,
   "id": "722c0dfb",
   "metadata": {},
   "outputs": [
    {
     "name": "stdout",
     "output_type": "stream",
     "text": [
      "Enter the Number :346.4\n",
      "<class 'float'>\n"
     ]
    }
   ],
   "source": [
    "a = float(input(\"Enter the Number :\"))\n",
    "print(type(a))\n"
   ]
  },
  {
   "cell_type": "markdown",
   "id": "09fce10b",
   "metadata": {},
   "source": [
    "# LISTS\n"
   ]
  },
  {
   "cell_type": "code",
   "execution_count": 63,
   "id": "821d8c91",
   "metadata": {},
   "outputs": [
    {
     "name": "stdout",
     "output_type": "stream",
     "text": [
      "['shub', 'shreya', 'jazzy', 'Andy', 'Mary']\n"
     ]
    }
   ],
   "source": [
    "friends = ['shub','shreya','jazzy','Andy','Mary']\n",
    "print(friends)"
   ]
  },
  {
   "cell_type": "code",
   "execution_count": 64,
   "id": "278090a0",
   "metadata": {},
   "outputs": [],
   "source": [
    "#list , tuple ,set , dictionary are the 4 types in python used to store collections of data\n",
    "# list items are ordered changeable and allow duplicate values.\n",
    "# list items are indexed the first item has fixed [0], the second item has index [1] etc.\n",
    "# list :can ADD, remove items in a klist after it has created.\n",
    "#     allows duplocates\n",
    "#     to determine how many items a list has, use the len( function)"
   ]
  },
  {
   "cell_type": "code",
   "execution_count": 67,
   "id": "d2efe90f",
   "metadata": {},
   "outputs": [
    {
     "name": "stdout",
     "output_type": "stream",
     "text": [
      "[1, 2, 3, 4, 5, 6]\n",
      "3\n",
      "[69, 2, 3, 4, 5, 6]\n",
      "[45, 'topno', False, 6.9]\n"
     ]
    }
   ],
   "source": [
    "a = [1,2,3,4,5,6]\n",
    "print(a)\n",
    "\n",
    "print(a[2])\n",
    "\n",
    "a[0]=69\n",
    "print(a)\n",
    "\n",
    "jd = [45,'topno',False,6.9]\n",
    "print(jd)"
   ]
  },
  {
   "cell_type": "code",
   "execution_count": 80,
   "id": "2a11c324",
   "metadata": {},
   "outputs": [
    {
     "name": "stdout",
     "output_type": "stream",
     "text": [
      "['shreya', 'jazzy', 'Andy']\n",
      "['johnny', 'dev', 'vijay', 'jay', 'Mary', 'Andy', 'jazzy', 'shreya', 'shub']\n",
      "[]\n",
      "['johnny', 'dev']\n"
     ]
    }
   ],
   "source": [
    "#list slicing \n",
    "friends = ['shub','shreya','jazzy','Andy','Mary','jay','vijay','dev','johnny']\n",
    "print(friends[1:4])\n",
    "print(friends[::-1])\n",
    "print(friends[-1:-3])\n",
    "print(friends[-1:-3:-1])\n",
    "#reads from left to right"
   ]
  },
  {
   "cell_type": "code",
   "execution_count": 83,
   "id": "a1784775",
   "metadata": {},
   "outputs": [
    {
     "name": "stdout",
     "output_type": "stream",
     "text": [
      "['Apple', 'banana', 'pineapple', 'orange', 'kiwi', 'melon', 'Mango']\n",
      "['Apple', 'banana', 'pineapple', 'orange', 'kiwi', 'strawberry', 'Mango']\n"
     ]
    }
   ],
   "source": [
    "fruits=['Apple','banana','pineapple','orange','kiwi','melon','Mango']\n",
    "print(fruits)\n",
    "fruits[5]='strawberry'\n",
    "print(fruits)"
   ]
  },
  {
   "cell_type": "code",
   "execution_count": 84,
   "id": "c80c7dd4",
   "metadata": {},
   "outputs": [
    {
     "name": "stdout",
     "output_type": "stream",
     "text": [
      "['Apple', 'banana', 'pineapple', 'orange', 'kiwi', 'Watermelon', 'strawberry', 'Mango']\n"
     ]
    }
   ],
   "source": [
    "#insert function\n",
    "fruits.insert(5,\"Watermelon\")\n",
    "print(fruits)"
   ]
  },
  {
   "cell_type": "code",
   "execution_count": null,
   "id": "7c420e2c",
   "metadata": {},
   "outputs": [],
   "source": []
  }
 ],
 "metadata": {
  "kernelspec": {
   "display_name": "Python 3 (ipykernel)",
   "language": "python",
   "name": "python3"
  },
  "language_info": {
   "codemirror_mode": {
    "name": "ipython",
    "version": 3
   },
   "file_extension": ".py",
   "mimetype": "text/x-python",
   "name": "python",
   "nbconvert_exporter": "python",
   "pygments_lexer": "ipython3",
   "version": "3.9.13"
  }
 },
 "nbformat": 4,
 "nbformat_minor": 5
}
