{
 "cells": [
  {
   "cell_type": "code",
   "execution_count": 1,
   "id": "dc2d9e2a",
   "metadata": {},
   "outputs": [
    {
     "name": "stdout",
     "output_type": "stream",
     "text": [
      "2 6\n",
      "2 8\n",
      "4 6\n",
      "4 8\n"
     ]
    }
   ],
   "source": [
    "#nested for loop:\n",
    "x = [2,4]\n",
    "y = [6,8]\n",
    "for i in x:\n",
    "    for j in y:\n",
    "        print(i,j)"
   ]
  },
  {
   "cell_type": "code",
   "execution_count": 7,
   "id": "c99adace",
   "metadata": {},
   "outputs": [
    {
     "name": "stdout",
     "output_type": "stream",
     "text": [
      "*****\n"
     ]
    }
   ],
   "source": [
    "n = 5\n",
    "print('*'*n)"
   ]
  },
  {
   "cell_type": "code",
   "execution_count": 10,
   "id": "3fc6f0eb",
   "metadata": {},
   "outputs": [
    {
     "name": "stdout",
     "output_type": "stream",
     "text": [
      "* * * * \n",
      "* * * * \n",
      "* * * * \n",
      "* * * * \n"
     ]
    }
   ],
   "source": [
    "for i in range(4):\n",
    "    for j in range(4):\n",
    "        print(\"*\",end=\" \") # overrides the new line.\n",
    "    print() #print empty lines."
   ]
  },
  {
   "cell_type": "code",
   "execution_count": 22,
   "id": "3f34dbab",
   "metadata": {},
   "outputs": [
    {
     "name": "stdout",
     "output_type": "stream",
     "text": [
      "* \n",
      "* * \n",
      "* * * \n",
      "* * * * \n"
     ]
    }
   ],
   "source": [
    "for i in range(4):\n",
    "    for j in range(i+1):\n",
    "        print(\"*\",end=\" \") # overrides the new line.\n",
    "    print() #print empty lines."
   ]
  },
  {
   "cell_type": "code",
   "execution_count": 30,
   "id": "844f3026",
   "metadata": {},
   "outputs": [
    {
     "name": "stdout",
     "output_type": "stream",
     "text": [
      "2 * 1 = 2\n",
      "2 * 2 = 4\n",
      "2 * 3 = 6\n",
      "2 * 4 = 8\n",
      "2 * 5 = 10\n",
      "2 * 6 = 12\n",
      "2 * 7 = 14\n",
      "2 * 8 = 16\n",
      "2 * 9 = 18\n",
      "2 * 10 = 20\n",
      "3 * 1 = 3\n",
      "3 * 2 = 6\n",
      "3 * 3 = 9\n",
      "3 * 4 = 12\n",
      "3 * 5 = 15\n",
      "3 * 6 = 18\n",
      "3 * 7 = 21\n",
      "3 * 8 = 24\n",
      "3 * 9 = 27\n",
      "3 * 10 = 30\n",
      "\n"
     ]
    }
   ],
   "source": [
    "for i in range(2,4):\n",
    "    for j in range(1,11):\n",
    "        print(i,'*',j, '=',i*j)\n",
    "print()  "
   ]
  },
  {
   "cell_type": "code",
   "execution_count": 32,
   "id": "63d97fc4",
   "metadata": {},
   "outputs": [
    {
     "name": "stdout",
     "output_type": "stream",
     "text": [
      "1\n",
      "2\n",
      "3\n",
      "4\n",
      "5\n"
     ]
    }
   ],
   "source": [
    "# while loop\n",
    "i = 1\n",
    "n =  6\n",
    "while i<6:\n",
    "    print(i)\n",
    "    i=i+1"
   ]
  },
  {
   "cell_type": "code",
   "execution_count": 36,
   "id": "0c506c75",
   "metadata": {},
   "outputs": [
    {
     "name": "stdout",
     "output_type": "stream",
     "text": [
      "you are inside the coco booth\n",
      "you are inside the coco booth\n",
      "you are inside the coco booth\n",
      "you are kicked out of the coco booth\n"
     ]
    }
   ],
   "source": [
    "# while with else\n",
    "counter = 0\n",
    "while counter < 3:\n",
    "    print('you are inside the coco booth')\n",
    "    counter = counter +1\n",
    "else:\n",
    "    print('you are kicked out of the coco booth')"
   ]
  },
  {
   "cell_type": "code",
   "execution_count": 37,
   "id": "05eeb5b3",
   "metadata": {},
   "outputs": [],
   "source": [
    "#  the for loop is usually used when the number of iterations is known.\n",
    "#     while loop is usually used when the number of iterations is unknown."
   ]
  },
  {
   "cell_type": "code",
   "execution_count": 45,
   "id": "39011a0a",
   "metadata": {},
   "outputs": [
    {
     "name": "stdout",
     "output_type": "stream",
     "text": [
      "0\n",
      "1\n",
      "2\n"
     ]
    }
   ],
   "source": [
    "# break statement\n",
    "# we use it to terminate the loop whena certain \n",
    "for i in range(5):\n",
    "    if i ==3:\n",
    "        break\n",
    "    print(i)"
   ]
  },
  {
   "cell_type": "code",
   "execution_count": 5,
   "id": "8421a685",
   "metadata": {},
   "outputs": [
    {
     "name": "stdout",
     "output_type": "stream",
     "text": [
      "6 *  1 = 6\n",
      "6 *  2 = 12\n",
      "6 *  3 = 18\n",
      "6 *  4 = 24\n",
      "6 *  5 = 30\n",
      "6 *  6 = 36\n"
     ]
    }
   ],
   "source": [
    " i =1\n",
    "while(i<=10):\n",
    "    \n",
    "    print(\"6 * \",(i),\"=\",6*i)\n",
    "    \n",
    "    if i>=6:\n",
    "        break\n",
    "    i =i+1"
   ]
  },
  {
   "cell_type": "code",
   "execution_count": 8,
   "id": "baeee805",
   "metadata": {},
   "outputs": [
    {
     "name": "stdout",
     "output_type": "stream",
     "text": [
      "0\n",
      "1\n",
      "3\n",
      "4\n",
      "5\n",
      "6\n",
      "7\n",
      "8\n",
      "9\n"
     ]
    }
   ],
   "source": [
    " for i in range(10):\n",
    "    if i ==2:\n",
    "        continue\n",
    "    print(i)"
   ]
  },
  {
   "cell_type": "code",
   "execution_count": 15,
   "id": "79738b22",
   "metadata": {},
   "outputs": [
    {
     "name": "stdout",
     "output_type": "stream",
     "text": [
      "2\n",
      "4\n",
      "6\n",
      "8\n",
      "10\n"
     ]
    }
   ],
   "source": [
    "n = 0\n",
    "while n<10:\n",
    "    n = n+1\n",
    "    if n% 2!= 0:\n",
    "        continue\n",
    "    print(n)    "
   ]
  },
  {
   "cell_type": "code",
   "execution_count": null,
   "id": "f15ecfa7",
   "metadata": {},
   "outputs": [],
   "source": [
    "# Functions:\n",
    "def functionname():\n",
    "    body"
   ]
  },
  {
   "cell_type": "code",
   "execution_count": 20,
   "id": "01c591b2",
   "metadata": {},
   "outputs": [],
   "source": [
    "def greet():\n",
    "    name = 'hi'\n",
    "    print(name,'how are you?')"
   ]
  },
  {
   "cell_type": "code",
   "execution_count": 21,
   "id": "844cc197",
   "metadata": {},
   "outputs": [
    {
     "name": "stdout",
     "output_type": "stream",
     "text": [
      "hi how are you?\n"
     ]
    }
   ],
   "source": [
    "greet()"
   ]
  },
  {
   "cell_type": "code",
   "execution_count": 24,
   "id": "6204b225",
   "metadata": {},
   "outputs": [],
   "source": [
    "def ADD(x,y):\n",
    "    z = x+y \n",
    "    print(z)"
   ]
  },
  {
   "cell_type": "code",
   "execution_count": 26,
   "id": "2d36daa8",
   "metadata": {},
   "outputs": [
    {
     "name": "stdout",
     "output_type": "stream",
     "text": [
      "10\n"
     ]
    }
   ],
   "source": [
    "ADD(5,5)"
   ]
  },
  {
   "cell_type": "code",
   "execution_count": 27,
   "id": "e28eb8bd",
   "metadata": {},
   "outputs": [],
   "source": [
    "def MULTIPLY(x,y):\n",
    "    z = x*y \n",
    "    print(z)"
   ]
  },
  {
   "cell_type": "code",
   "execution_count": 28,
   "id": "c5da875f",
   "metadata": {},
   "outputs": [
    {
     "name": "stdout",
     "output_type": "stream",
     "text": [
      "8\n"
     ]
    }
   ],
   "source": [
    "MULTIPLY(4,2)"
   ]
  },
  {
   "cell_type": "code",
   "execution_count": 29,
   "id": "eacaad7d",
   "metadata": {},
   "outputs": [],
   "source": [
    "def name(x,y,z):\n",
    "    print(x,\"\",y,\"\",z)"
   ]
  },
  {
   "cell_type": "code",
   "execution_count": 30,
   "id": "7890dcc8",
   "metadata": {},
   "outputs": [
    {
     "name": "stdout",
     "output_type": "stream",
     "text": [
      "Akash  Santosh  Nair\n"
     ]
    }
   ],
   "source": [
    "name('Akash','Santosh','Nair')"
   ]
  },
  {
   "cell_type": "code",
   "execution_count": 31,
   "id": "bba36679",
   "metadata": {},
   "outputs": [],
   "source": [
    "# get the result in tuple format\n",
    "#unpack tuple\n"
   ]
  },
  {
   "cell_type": "markdown",
   "id": "e6d33e65",
   "metadata": {},
   "source": [
    "# types of arguments =  arbitrary,default,keyword"
   ]
  },
  {
   "cell_type": "code",
   "execution_count": 38,
   "id": "e40f272c",
   "metadata": {},
   "outputs": [],
   "source": [
    "def Master_Cal(a,b):\n",
    "    return a+b,a-b,a*b,a%b"
   ]
  },
  {
   "cell_type": "code",
   "execution_count": 39,
   "id": "0be25559",
   "metadata": {},
   "outputs": [
    {
     "name": "stdout",
     "output_type": "stream",
     "text": [
      "60 20 800 0\n"
     ]
    }
   ],
   "source": [
    "add,sub,mul,div = Master_Cal(b= 20,a= 40)\n",
    "print(add,sub,mul,div)"
   ]
  },
  {
   "cell_type": "code",
   "execution_count": 42,
   "id": "dc5a5076",
   "metadata": {},
   "outputs": [
    {
     "name": "stdout",
     "output_type": "stream",
     "text": [
      "Name : MARY Salary : 3,500,00\n",
      "Name : AKASH Salary : 90000\n"
     ]
    }
   ],
   "source": [
    "def Show_employee(name,salary=90000):\n",
    "     print('Name :',name,'Salary :',salary)\n",
    "    \n",
    "    \n",
    "Show_employee('MARY','3,500,00')\n",
    "Show_employee('AKASH')"
   ]
  },
  {
   "cell_type": "code",
   "execution_count": 78,
   "id": "00d72ed5",
   "metadata": {},
   "outputs": [],
   "source": [
    "# arbitrary\n",
    "def sd(*n):\n",
    "    print(\"first row of students is :\"+ n[1])"
   ]
  },
  {
   "cell_type": "code",
   "execution_count": 80,
   "id": "2af79e7f",
   "metadata": {},
   "outputs": [
    {
     "name": "stdout",
     "output_type": "stream",
     "text": [
      "first row of students is :Mary\n"
     ]
    }
   ],
   "source": [
    "sd(\"Akash \",\"Mary\",\"Valentina\",\"Nair\")"
   ]
  },
  {
   "cell_type": "code",
   "execution_count": 83,
   "id": "fe217b58",
   "metadata": {},
   "outputs": [],
   "source": [
    "def sd (*n):\n",
    "    j = 0\n",
    "    for i in n:\n",
    "        j = j+i\n",
    "    return j"
   ]
  },
  {
   "cell_type": "code",
   "execution_count": 84,
   "id": "c433d309",
   "metadata": {},
   "outputs": [
    {
     "data": {
      "text/plain": [
       "61"
      ]
     },
     "execution_count": 84,
     "metadata": {},
     "output_type": "execute_result"
    }
   ],
   "source": [
    "sd(1,4,56)"
   ]
  },
  {
   "cell_type": "code",
   "execution_count": 87,
   "id": "b035b364",
   "metadata": {},
   "outputs": [
    {
     "name": "stdout",
     "output_type": "stream",
     "text": [
      "Square of  1 = 1\n",
      "Square of  2 = 4\n",
      "Square of  3 = 9\n",
      "Square of  4 = 16\n",
      "Square of  5 = 25\n"
     ]
    }
   ],
   "source": [
    "def square(num):\n",
    "    return num*num\n",
    "for i in range(1,6):\n",
    "    result = square(i)\n",
    "    print('Square of ',i,'=',result)"
   ]
  },
  {
   "cell_type": "code",
   "execution_count": 88,
   "id": "f71d1e28",
   "metadata": {},
   "outputs": [],
   "source": [
    "# lamda"
   ]
  },
  {
   "cell_type": "code",
   "execution_count": 89,
   "id": "822797cc",
   "metadata": {},
   "outputs": [],
   "source": [
    "greet = lambda : print(\"hello world\")"
   ]
  },
  {
   "cell_type": "code",
   "execution_count": 90,
   "id": "1e6e83ed",
   "metadata": {},
   "outputs": [
    {
     "name": "stdout",
     "output_type": "stream",
     "text": [
      "hello world\n"
     ]
    }
   ],
   "source": [
    "greet()"
   ]
  },
  {
   "cell_type": "code",
   "execution_count": 95,
   "id": "217f871b",
   "metadata": {},
   "outputs": [],
   "source": [
    "#python lambda function with argument:\n",
    "k = lambda name: print('how are you',name)"
   ]
  },
  {
   "cell_type": "code",
   "execution_count": 96,
   "id": "84f6bc37",
   "metadata": {},
   "outputs": [
    {
     "name": "stdout",
     "output_type": "stream",
     "text": [
      "how are you akash\n"
     ]
    }
   ],
   "source": [
    "k('akash')"
   ]
  },
  {
   "cell_type": "code",
   "execution_count": 97,
   "id": "e1ef2efc",
   "metadata": {},
   "outputs": [
    {
     "data": {
      "text/plain": [
       "'Odd Number'"
      ]
     },
     "execution_count": 97,
     "metadata": {},
     "output_type": "execute_result"
    }
   ],
   "source": [
    "cal = lambda num: \"Even Number \" if num %2 == 0 else \"Odd Number\"\n",
    "cal(5)"
   ]
  },
  {
   "cell_type": "code",
   "execution_count": 98,
   "id": "ec8c8925",
   "metadata": {},
   "outputs": [],
   "source": [
    "# global and local variables:\n",
    "def fun():\n",
    "    s =\"New Year Aheah yehhhh!\"\n",
    "    print(s)# local variable\n",
    "   # sum = \"akash\" # global variable"
   ]
  },
  {
   "cell_type": "code",
   "execution_count": null,
   "id": "70d3646b",
   "metadata": {},
   "outputs": [],
   "source": []
  },
  {
   "cell_type": "code",
   "execution_count": null,
   "id": "00da5de7",
   "metadata": {},
   "outputs": [],
   "source": []
  },
  {
   "cell_type": "code",
   "execution_count": null,
   "id": "a54c37b9",
   "metadata": {},
   "outputs": [],
   "source": []
  }
 ],
 "metadata": {
  "kernelspec": {
   "display_name": "Python 3 (ipykernel)",
   "language": "python",
   "name": "python3"
  },
  "language_info": {
   "codemirror_mode": {
    "name": "ipython",
    "version": 3
   },
   "file_extension": ".py",
   "mimetype": "text/x-python",
   "name": "python",
   "nbconvert_exporter": "python",
   "pygments_lexer": "ipython3",
   "version": "3.9.13"
  }
 },
 "nbformat": 4,
 "nbformat_minor": 5
}
